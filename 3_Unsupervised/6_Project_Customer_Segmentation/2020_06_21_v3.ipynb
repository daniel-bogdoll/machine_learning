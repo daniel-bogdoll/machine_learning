{
 "cells": [
  {
   "cell_type": "markdown",
   "metadata": {},
   "source": [
    "# Project: Identify Customer Segments\n",
    "\n",
    "In this project, you will apply unsupervised learning techniques to identify segments of the population that form the core customer base for a mail-order sales company in Germany. These segments can then be used to direct marketing campaigns towards audiences that will have the highest expected rate of returns. The data that you will use has been provided by our partners at Bertelsmann Arvato Analytics, and represents a real-life data science task.\n",
    "\n",
    "This notebook will help you complete this task by providing a framework within which you will perform your analysis steps. In each step of the project, you will see some text describing the subtask that you will perform, followed by one or more code cells for you to complete your work. **Feel free to add additional code and markdown cells as you go along so that you can explore everything in precise chunks.** The code cells provided in the base template will outline only the major tasks, and will usually not be enough to cover all of the minor tasks that comprise it.\n",
    "\n",
    "It should be noted that while there will be precise guidelines on how you should handle certain tasks in the project, there will also be places where an exact specification is not provided. **There will be times in the project where you will need to make and justify your own decisions on how to treat the data.** These are places where there may not be only one way to handle the data. In real-life tasks, there may be many valid ways to approach an analysis task. One of the most important things you can do is clearly document your approach so that other scientists can understand the decisions you've made.\n",
    "\n",
    "At the end of most sections, there will be a Markdown cell labeled **Discussion**. In these cells, you will report your findings for the completed section, as well as document the decisions that you made in your approach to each subtask. **Your project will be evaluated not just on the code used to complete the tasks outlined, but also your communication about your observations and conclusions at each stage.**"
   ]
  },
  {
   "cell_type": "code",
   "execution_count": 27,
   "metadata": {},
   "outputs": [
    {
     "data": {
      "text/plain": [
       "'\\nImport note: The classroom currently uses sklearn version 0.19.\\nIf you need to use an imputer, it is available in sklearn.preprocessing.Imputer,\\ninstead of sklearn.impute as in newer versions of sklearn.\\n'"
      ]
     },
     "execution_count": 27,
     "metadata": {},
     "output_type": "execute_result"
    }
   ],
   "source": [
    "# import libraries here; add more as necessary\n",
    "import numpy as np\n",
    "import pandas as pd\n",
    "import matplotlib.pyplot as plt\n",
    "from matplotlib.colors import PowerNorm\n",
    "from datetime import datetime\n",
    "\n",
    "from sklearn.preprocessing import Imputer\n",
    "from sklearn.preprocessing import StandardScaler\n",
    "\n",
    "from sklearn.decomposition import PCA\n",
    "\n",
    "import seaborn as sns\n",
    "import math\n",
    "\n",
    "from sklearn.cluster import KMeans\n",
    "\n",
    "from sklearn.metrics import silhouette_score\n",
    "from collections import Counter\n",
    "\n",
    "# magic word for producing visualizations in notebook\n",
    "%matplotlib inline\n",
    "\n",
    "'''\n",
    "Import note: The classroom currently uses sklearn version 0.19.\n",
    "If you need to use an imputer, it is available in sklearn.preprocessing.Imputer,\n",
    "instead of sklearn.impute as in newer versions of sklearn.\n",
    "'''"
   ]
  },
  {
   "cell_type": "markdown",
   "metadata": {},
   "source": [
    "### Step 0: Load the Data\n",
    "\n",
    "There are four files associated with this project (not including this one):\n",
    "\n",
    "- `Udacity_AZDIAS_Subset.csv`: Demographics data for the general population of Germany; 891211 persons (rows) x 85 features (columns).\n",
    "- `Udacity_CUSTOMERS_Subset.csv`: Demographics data for customers of a mail-order company; 191652 persons (rows) x 85 features (columns).\n",
    "- `Data_Dictionary.md`: Detailed information file about the features in the provided datasets.\n",
    "- `AZDIAS_Feature_Summary.csv`: Summary of feature attributes for demographics data; 85 features (rows) x 4 columns\n",
    "\n",
    "Each row of the demographics files represents a single person, but also includes information outside of individuals, including information about their household, building, and neighborhood. You will use this information to cluster the general population into groups with similar demographic properties. Then, you will see how the people in the customers dataset fit into those created clusters. The hope here is that certain clusters are over-represented in the customers data, as compared to the general population; those over-represented clusters will be assumed to be part of the core userbase. This information can then be used for further applications, such as targeting for a marketing campaign.\n",
    "\n",
    "To start off with, load in the demographics data for the general population into a pandas DataFrame, and do the same for the feature attributes summary. Note for all of the `.csv` data files in this project: they're semicolon (`;`) delimited, so you'll need an additional argument in your [`read_csv()`](https://pandas.pydata.org/pandas-docs/stable/generated/pandas.read_csv.html) call to read in the data properly. Also, considering the size of the main dataset, it may take some time for it to load completely.\n",
    "\n",
    "Once the dataset is loaded, it's recommended that you take a little bit of time just browsing the general structure of the dataset and feature summary file. You'll be getting deep into the innards of the cleaning in the first major step of the project, so gaining some general familiarity can help you get your bearings."
   ]
  },
  {
   "cell_type": "code",
   "execution_count": 65,
   "metadata": {},
   "outputs": [
    {
     "name": "stdout",
     "output_type": "stream",
     "text": [
      "Data loaded\n"
     ]
    }
   ],
   "source": [
    "# Load in the general demographics data.\n",
    "azdias = pd.read_csv('Udacity_AZDIAS_Subset.csv',sep=\";\")\n",
    "azdias_np = azdias.values\n",
    "\n",
    "# Load in the feature summary file.\n",
    "feat_info = pd.read_csv('AZDIAS_Feature_Summary.csv',sep=\";\")\n",
    "print(\"Data loaded\")"
   ]
  },
  {
   "cell_type": "markdown",
   "metadata": {},
   "source": [
    "## Step 1: Preprocessing\n",
    "\n",
    "### Step 1.1: Assess Missing Data\n",
    "\n",
    "The feature summary file contains a summary of properties for each demographics data column. You will use this file to help you make cleaning decisions during this stage of the project. First of all, you should assess the demographics data in terms of missing data. Pay attention to the following points as you perform your analysis, and take notes on what you observe. Make sure that you fill in the **Discussion** cell with your findings and decisions at the end of each step that has one!\n",
    "\n",
    "#### Step 1.1.1: Convert Missing Value Codes to NaNs\n",
    "The fourth column of the feature attributes summary (loaded in above as `feat_info`) documents the codes from the data dictionary that indicate missing or unknown data. While the file encodes this as a list (e.g. `[-1,0]`), this will get read in as a string object. You'll need to do a little bit of parsing to make use of it to identify and clean the data. Convert data that matches a 'missing' or 'unknown' value code into a numpy NaN value. You might want to see how much data takes on a 'missing' or 'unknown' code, and how much data is naturally missing, as a point of interest.\n",
    "\n",
    "**As one more reminder, you are encouraged to add additional cells to break up your analysis into manageable chunks.**"
   ]
  },
  {
   "cell_type": "code",
   "execution_count": 21,
   "metadata": {},
   "outputs": [],
   "source": [
    "def parseKeyString(key_missing_or_unknown):\n",
    "    hasX = 'X' in key_missing_or_unknown\n",
    "    key_list = []\n",
    "    if (key_missing_or_unknown != \"[]\"):\n",
    "        key_list = key_missing_or_unknown.replace('[','')\n",
    "        key_list = key_list.replace(']','')\n",
    "        key_list = list(key_list.split(\",\"))\n",
    "        if (hasX == False):\n",
    "            key_list = list(map(int, key_list))\n",
    "    return key_list, hasX\n",
    "\n",
    "def collectMissingData(i,j):\n",
    "    numberOfMissingValuesPerCategory[i] += 1\n",
    "    numberOfMissingValuesPerPerson[j] +=1\n",
    "\n",
    "def collectNanData(i,j):\n",
    "    numberOfNanPerCategory[i] += 1\n",
    "    numberOfNanPerPerson[j] +=1"
   ]
  },
  {
   "cell_type": "code",
   "execution_count": 76,
   "metadata": {},
   "outputs": [
    {
     "name": "stdout",
     "output_type": "stream",
     "text": [
      "(891221, 85)\n",
      "(85, 891221)\n",
      "Column 0 / 84\n",
      "Column 1 / 84\n",
      "Column 2 / 84\n",
      "Column 3 / 84\n",
      "Column 4 / 84\n",
      "Column 5 / 84\n",
      "Column 6 / 84\n",
      "Column 7 / 84\n",
      "Column 8 / 84\n",
      "Column 9 / 84\n",
      "Column 10 / 84\n",
      "Column 11 / 84\n",
      "Column 12 / 84\n",
      "Column 13 / 84\n",
      "Column 14 / 84\n",
      "Column 15 / 84\n",
      "Column 16 / 84\n",
      "Column 17 / 84\n",
      "Column 18 / 84\n",
      "Column 19 / 84\n",
      "Column 20 / 84\n",
      "Column 21 / 84\n",
      "Column 22 / 84\n",
      "Column 23 / 84\n",
      "Column 24 / 84\n",
      "Column 25 / 84\n",
      "Column 26 / 84\n",
      "Column 27 / 84\n",
      "Column 28 / 84\n",
      "Column 29 / 84\n",
      "Column 30 / 84\n",
      "Column 31 / 84\n",
      "Column 32 / 84\n",
      "Column 33 / 84\n",
      "Column 34 / 84\n",
      "Column 35 / 84\n",
      "Column 36 / 84\n",
      "Column 37 / 84\n",
      "Column 38 / 84\n",
      "Column 39 / 84\n",
      "Column 40 / 84\n",
      "Column 41 / 84\n",
      "Column 42 / 84\n",
      "Column 43 / 84\n",
      "Column 44 / 84\n",
      "Column 45 / 84\n",
      "Column 46 / 84\n",
      "Column 47 / 84\n",
      "Column 48 / 84\n",
      "Column 49 / 84\n",
      "Column 50 / 84\n",
      "Column 51 / 84\n",
      "Column 52 / 84\n",
      "Column 53 / 84\n",
      "Column 54 / 84\n",
      "Column 55 / 84\n",
      "Column 56 / 84\n",
      "Column 57 / 84\n",
      "Column 58 / 84\n",
      "Column 59 / 84\n",
      "Column 60 / 84\n",
      "Column 61 / 84\n",
      "Column 62 / 84\n",
      "Column 63 / 84\n",
      "Column 64 / 84\n",
      "Column 65 / 84\n",
      "Column 66 / 84\n",
      "Column 67 / 84\n",
      "Column 68 / 84\n",
      "Column 69 / 84\n",
      "Column 70 / 84\n",
      "Column 71 / 84\n",
      "Column 72 / 84\n",
      "Column 73 / 84\n",
      "Column 74 / 84\n",
      "Column 75 / 84\n",
      "Column 76 / 84\n",
      "Column 77 / 84\n",
      "Column 78 / 84\n",
      "Column 79 / 84\n",
      "Column 80 / 84\n",
      "Column 81 / 84\n",
      "Column 82 / 84\n",
      "Column 83 / 84\n",
      "Column 84 / 84\n",
      "Done\n"
     ]
    }
   ],
   "source": [
    "#TASK 1: Convert data that matches a 'missing' or 'unknown' value code into a numpy NaN value.\n",
    "numberOfCategories = len(feat_info)\n",
    "numberOfMissingValuesPerCategory = np.zeros(85)\n",
    "numberOfMissingValuesPerPerson = np.zeros(891221)\n",
    "numberOfNanPerCategory = np.zeros(85)\n",
    "numberOfNanPerPerson = np.zeros(891221)\n",
    "\n",
    "nanValues = []\n",
    "missingUnknownValues = []\n",
    "azdias_np_t = np.transpose(azdias_np)\n",
    "print(np.shape(azdias_np))\n",
    "print(np.shape(azdias_np_t))\n",
    "for i, column in enumerate(azdias_np_t):   #column = category\n",
    "    print(\"Column\",i,\"/\",84)\n",
    "    key_missing_or_unknown = feat_info.iloc[i][3]\n",
    "    key_list, hasX = parseKeyString(key_missing_or_unknown)\n",
    "    \n",
    "    for j, row in enumerate(column):\n",
    "        value = azdias_np_t[i][j]\n",
    "        if (pd.isna(value) == True):\n",
    "            nanValues.append([i, j])\n",
    "            collectNanData(i,j)\n",
    "        elif (hasX == True):\n",
    "            string_value = str(value)\n",
    "            if (any(key == string_value for key in key_list)):\n",
    "                missingUnknownValues.append([i, j])\n",
    "                azdias_np_t[i][j] = np.nan\n",
    "                collectMissingData(i,j)\n",
    "        else:\n",
    "            if (key_missing_or_unknown != \"[]\" and any(key == value for key in key_list)):\n",
    "                missingUnknownValues.append([i, j])\n",
    "                azdias_np_t[i][j] = np.nan\n",
    "                collectMissingData(i,j)\n",
    "            elif (key_missing_or_unknown == \"[]\" and value == key_missing_or_unknown):\n",
    "                missingUnknownValues.append([i, j])\n",
    "                azdias_np_t[i][j] = np.nan\n",
    "                collectMissingData(i,j)\n",
    "nanValues = np.array(nanValues)\n",
    "missingUnknownValues = np.array(missingUnknownValues)\n",
    "azdias = pd.DataFrame(np.transpose(azdias_np_t), columns=azdias.columns)\n",
    "print(\"Done\")"
   ]
  },
  {
   "cell_type": "code",
   "execution_count": 80,
   "metadata": {},
   "outputs": [
    {
     "data": {
      "image/png": "[encoded data removed]",
      "text/plain": [
       "<matplotlib.figure.Figure at 0x7fe110c4f278>"
      ]
     },
     "metadata": {
      "needs_background": "light"
     },
     "output_type": "display_data"
    }
   ],
   "source": [
    "#TASK 2: How much data takes on a 'missing' or 'unknown' code, and how much data is naturally missing\n",
    "y_pos_miss = np.arange(len(numberOfMissingValuesPerCategory))\n",
    "plt.bar(y_pos_miss, numberOfMissingValuesPerCategory, color=\"blue\")\n",
    "y_pos_nan = np.arange(len(numberOfNanPerCategory))\n",
    "plt.bar(y_pos_miss, numberOfNanPerCategory, color=\"red\")\n",
    "plt.show()\n",
    "#All spikes are removed with a threshold of 200,000"
   ]
  },
  {
   "cell_type": "markdown",
   "metadata": {},
   "source": [
    "#### Step 1.1.2: Assess Missing Data in Each Column\n",
    "\n",
    "How much missing data is present in each column? There are a few columns that are outliers in terms of the proportion of values that are missing. You will want to use matplotlib's [`hist()`](https://matplotlib.org/api/_as_gen/matplotlib.pyplot.hist.html) function to visualize the distribution of missing value counts to find these columns. Identify and document these columns. While some of these columns might have justifications for keeping or re-encoding the data, for this project you should just remove them from the dataframe. (Feel free to make remarks about these outlier columns in the discussion, however!)\n",
    "\n",
    "For the remaining features, are there any patterns in which columns have, or share, missing data?"
   ]
  },
  {
   "cell_type": "code",
   "execution_count": 81,
   "metadata": {},
   "outputs": [
    {
     "data": {
      "image/png": "[encoded data removed]",
      "text/plain": [
       "<matplotlib.figure.Figure at 0x7fe110c5b2e8>"
      ]
     },
     "metadata": {
      "needs_background": "light"
     },
     "output_type": "display_data"
    }
   ],
   "source": [
    "#TASK 3: use matplotlib's hist() function to visualize the distribution of missing value counts to find these columns\n",
    "plt.hist(numberOfMissingValuesPerCategory, color=\"blue\")\n",
    "plt.hist(numberOfNanPerCategory, color=\"red\")\n",
    "plt.show()\n",
    "#All spikes are removed with a threshold of 200,000"
   ]
  },
  {
   "cell_type": "code",
   "execution_count": 82,
   "metadata": {},
   "outputs": [
    {
     "name": "stdout",
     "output_type": "stream",
     "text": [
      "44561.05 89122.1 200000\n",
      "[0, 11, 40, 43, 64, 47]\n"
     ]
    }
   ],
   "source": [
    "#TASK 4: Remove the outlier columns from the dataset\n",
    "droppingColumns = []\n",
    "#Schafer ( 1999 ) asserted that a missing rate of 5% or less is inconsequential.\n",
    "#Bennett ( 2001 ) maintained that statistical analysis is likely to be biased when more than 10% of data are missing.\n",
    "#https://www.ncbi.nlm.nih.gov/pmc/articles/PMC3701793/#:~:text=Proportion%20of%20missing%20data,-The%20proportion%20of&text=Yet%2C%20there%20is%20no%20established,5%25%20or%20less%20is%20inconsequential.\n",
    "\n",
    "fivePercent = 891221 * 0.05\n",
    "tenPercent =  891221 * 0.1\n",
    "spikes = 200000\n",
    "print(fivePercent, tenPercent, spikes)\n",
    "\n",
    "for i,entry in enumerate(numberOfMissingValuesPerCategory):\n",
    "    if (entry > spikes):\n",
    "        droppingColumns.append(i)\n",
    "        \n",
    "for i,entry in enumerate(numberOfNanPerCategory):\n",
    "    if (entry > spikes):\n",
    "        droppingColumns.append(i)\n",
    "\n",
    "print(droppingColumns)\n",
    "azdias.drop(azdias.columns[droppingColumns], axis=1, inplace=True)"
   ]
  },
  {
   "cell_type": "code",
   "execution_count": 84,
   "metadata": {},
   "outputs": [],
   "source": [
    "dateTimeObj = datetime.now()\n",
    "timestampStr = dateTimeObj.strftime(\"%Y_%m_%d_%H_%M_%S\")\n",
    "azdias.to_csv(timestampStr + '_1.1.2_removed_columns.csv')"
   ]
  },
  {
   "cell_type": "code",
   "execution_count": 85,
   "metadata": {},
   "outputs": [
    {
     "name": "stdout",
     "output_type": "stream",
     "text": [
      "Column 0\n",
      "Column 1\n",
      "Column 2\n",
      "Column 3\n",
      "Column 4\n",
      "Column 5\n",
      "Column 6\n",
      "Column 7\n",
      "Column 8\n",
      "Column 9\n",
      "Column 10\n",
      "Column 11\n",
      "Column 12\n",
      "Column 13\n",
      "Column 14\n",
      "Column 15\n",
      "Column 16\n",
      "Column 17\n",
      "Column 18\n",
      "Column 19\n",
      "Column 20\n",
      "Column 21\n",
      "Column 22\n",
      "Column 23\n",
      "Column 24\n",
      "Column 25\n",
      "Column 26\n",
      "Column 27\n",
      "Column 28\n",
      "Column 29\n",
      "Column 30\n",
      "Column 31\n",
      "Column 32\n",
      "Column 33\n",
      "Column 34\n",
      "Column 35\n",
      "Column 36\n",
      "Column 37\n",
      "Column 38\n",
      "Column 39\n",
      "Column 40\n",
      "Column 41\n",
      "Column 42\n",
      "Column 43\n",
      "Column 44\n",
      "Column 45\n",
      "Column 46\n",
      "Column 47\n",
      "Column 48\n",
      "Column 49\n",
      "Column 50\n",
      "Column 51\n",
      "Column 52\n",
      "Column 53\n",
      "Column 54\n",
      "Column 55\n",
      "Column 56\n",
      "Column 57\n",
      "Column 58\n",
      "Column 59\n",
      "Column 60\n",
      "Column 61\n",
      "Column 62\n",
      "Column 63\n",
      "Column 64\n",
      "Column 65\n",
      "Column 66\n",
      "Column 67\n",
      "Column 68\n",
      "Column 69\n",
      "Column 70\n",
      "Column 71\n",
      "Column 72\n",
      "Column 73\n",
      "Column 74\n",
      "Column 75\n",
      "Column 76\n",
      "Column 77\n",
      "Column 78\n",
      "Done\n"
     ]
    }
   ],
   "source": [
    "#Update values computed\n",
    "\n",
    "azdias_np2 = azdias.values\n",
    "\n",
    "def collectNanData(i,j):\n",
    "    numberOfNanPerCategoryNew[i] += 1\n",
    "    numberOfNanPerPersonNew[j] +=1\n",
    "    \n",
    "numberOfNanPerCategoryNew = np.zeros(85)\n",
    "numberOfNanPerPersonNew = np.zeros(891221)\n",
    "\n",
    "azdias_np_t2 = np.transpose(azdias_np2)\n",
    "for i, column in enumerate(azdias_np_t2):   #column = category\n",
    "    print(\"Column\",i)\n",
    "    for j, row in enumerate(column):\n",
    "        if (pd.isna(azdias_np_t2[i][j]) == True):\n",
    "            collectNanData(i,j)\n",
    "    \n",
    "print(\"Done\")"
   ]
  },
  {
   "cell_type": "markdown",
   "metadata": {},
   "source": [
    "#### Discussion 1.1.2: Assess Missing Data in Each Column\n",
    "\n",
    "- Amount of missing data in each column --> There is quite a lot of data missing. There are no exact values, but some experts suggest that categories with more than 10% missing value loose quite some meaning. Around 50% of all categories have more than 10% of data missing\n",
    "- Are there any patterns in missing values? --> The second half of the dataset if full of NaN-values, while the missing values are spread over multiple sections\n",
    "- Which columns were removed from the dataset? --> 11, 40, 43, 64, 0, 47"
   ]
  },
  {
   "cell_type": "markdown",
   "metadata": {},
   "source": [
    "#### Step 1.1.3: Assess Missing Data in Each Row\n",
    "\n",
    "Now, you'll perform a similar assessment for the rows of the dataset. How much data is missing in each row? As with the columns, you should see some groups of points that have a very different numbers of missing values. Divide the data into two subsets: one for data points that are above some threshold for missing values, and a second subset for points below that threshold.\n",
    "\n",
    "In order to know what to do with the outlier rows, we should see if the distribution of data values on columns that are not missing data (or are missing very little data) are similar or different between the two groups. Select at least five of these columns and compare the distribution of values.\n",
    "- You can use seaborn's [`countplot()`](https://seaborn.pydata.org/generated/seaborn.countplot.html) function to create a bar chart of code frequencies and matplotlib's [`subplot()`](https://matplotlib.org/api/_as_gen/matplotlib.pyplot.subplot.html) function to put bar charts for the two subplots side by side.\n",
    "- To reduce repeated code, you might want to write a function that can perform this comparison, taking as one of its arguments a column to be compared.\n",
    "\n",
    "Depending on what you observe in your comparison, this will have implications on how you approach your conclusions later in the analysis. If the distributions of non-missing features look similar between the data with many missing values and the data with few or no missing values, then we could argue that simply dropping those points from the analysis won't present a major issue. On the other hand, if the data with many missing values looks very different from the data with few or no missing values, then we should make a note on those data as special. We'll revisit these data later on. **Either way, you should continue your analysis for now using just the subset of the data with few or no missing values.**"
   ]
  },
  {
   "cell_type": "code",
   "execution_count": 86,
   "metadata": {},
   "outputs": [
    {
     "data": {
      "image/png": "[encoded data removed]",
      "text/plain": [
       "<matplotlib.figure.Figure at 0x7fe0ff34cba8>"
      ]
     },
     "metadata": {
      "needs_background": "light"
     },
     "output_type": "display_data"
    }
   ],
   "source": [
    "#TASK 5: How much data is missing in each row of the dataset?\n",
    "plt.hist(numberOfMissingValuesPerPerson, color=\"blue\")\n",
    "plt.hist(numberOfNanPerPerson, color=\"red\")\n",
    "plt.show()"
   ]
  },
  {
   "cell_type": "code",
   "execution_count": 87,
   "metadata": {},
   "outputs": [
    {
     "data": {
      "image/png": "[encoded data removed]",
      "text/plain": [
       "<matplotlib.figure.Figure at 0x7fe110c06fd0>"
      ]
     },
     "metadata": {
      "needs_background": "light"
     },
     "output_type": "display_data"
    }
   ],
   "source": [
    "#TASK 5: How much data is missing in each row of the dataset?\n",
    "plt.hist(numberOfNanPerPersonNew, color=\"green\")\n",
    "#plt.plot(numberOfNanPerPersonNew, color=\"orange\")\n",
    "plt.show()"
   ]
  },
  {
   "cell_type": "code",
   "execution_count": 88,
   "metadata": {},
   "outputs": [
    {
     "name": "stdout",
     "output_type": "stream",
     "text": [
      "Done\n"
     ]
    }
   ],
   "source": [
    "#TASK 6: Divide the data into two subsets:\n",
    "# one for data points that are above some threshold for missing values,\n",
    "# and a second subset for points below that threshold.\n",
    "\n",
    "threshold = 30\n",
    "\n",
    "#https://knowledge.udacity.com/questions/236887\n",
    "# Write code to divide the data into two subsets based on the number of missing # values in each row.\n",
    "belowThreshold = azdias[azdias.isnull().sum(axis=1) <= threshold]\n",
    "aboveThreshold = azdias[azdias.isnull().sum(axis=1) > threshold]\n",
    "\n",
    "dateTimeObj = datetime.now()\n",
    "timestampStr = dateTimeObj.strftime(\"%Y_%m_%d_%H_%M_%S\")\n",
    "#aboveThreshold.to_csv(timestampStr + '_aboveThreshold.csv')\n",
    "belowThreshold.to_csv(timestampStr + '_1.1.3_belowThreshold.csv')\n",
    "\n",
    "print(\"Done\")"
   ]
  },
  {
   "cell_type": "code",
   "execution_count": 89,
   "metadata": {},
   "outputs": [
    {
     "name": "stdout",
     "output_type": "stream",
     "text": [
      "(93154, 79)\n",
      "(798067, 79)\n"
     ]
    }
   ],
   "source": [
    "print(np.shape(aboveThreshold))\n",
    "print(np.shape(belowThreshold))"
   ]
  },
  {
   "cell_type": "code",
   "execution_count": 90,
   "metadata": {},
   "outputs": [
    {
     "name": "stdout",
     "output_type": "stream",
     "text": [
      "ALTERSKATEGORIE_GROB        78\n",
      "ANREDE_KZ                    0\n",
      "CJT_GESAMTTYP              105\n",
      "FINANZ_MINIMALIST            0\n",
      "FINANZ_SPARER                0\n",
      "FINANZ_VORSORGER             0\n",
      "FINANZ_ANLEGER               0\n",
      "FINANZ_UNAUFFAELLIGER        0\n",
      "FINANZ_HAUSBAUER             0\n",
      "FINANZTYP                    0\n",
      "GFK_URLAUBERTYP            105\n",
      "GREEN_AVANTGARDE             0\n",
      "HEALTH_TYP               74470\n",
      "LP_LEBENSPHASE_FEIN      47393\n",
      "LP_LEBENSPHASE_GROB      47226\n",
      "LP_FAMILIE_FEIN          46318\n",
      "LP_FAMILIE_GROB          46318\n",
      "LP_STATUS_FEIN             105\n",
      "LP_STATUS_GROB             105\n",
      "NATIONALITAET_KZ         74392\n",
      "PRAEGENDE_JUGENDJAHRE    79406\n",
      "RETOURTYP_BK_S             105\n",
      "SEMIO_SOZ                    0\n",
      "SEMIO_FAM                    0\n",
      "SEMIO_REL                    0\n",
      "SEMIO_MAT                    0\n",
      "SEMIO_VERT                   0\n",
      "SEMIO_LUST                   0\n",
      "SEMIO_ERL                    0\n",
      "SEMIO_KULT                   0\n",
      "                         ...  \n",
      "MIN_GEBAEUDEJAHR         93148\n",
      "OST_WEST_KZ              93148\n",
      "WOHNLAGE                 93148\n",
      "CAMEO_DEUG_2015          93151\n",
      "CAMEO_DEU_2015           93151\n",
      "CAMEO_INTL_2015          93151\n",
      "KBA05_ANTG1              93154\n",
      "KBA05_ANTG2              93154\n",
      "KBA05_ANTG3              93154\n",
      "KBA05_ANTG4              93154\n",
      "KBA05_GBZ                93154\n",
      "BALLRAUM                 93148\n",
      "EWDICHTE                 93148\n",
      "INNENSTADT               93148\n",
      "GEBAEUDETYP_RASTER       93148\n",
      "KKK                      93154\n",
      "MOBI_REGIO               93154\n",
      "ONLINE_AFFINITAET          105\n",
      "REGIOTYP                 93154\n",
      "KBA13_ANZAHL_PKW         93153\n",
      "PLZ8_ANTG1               93154\n",
      "PLZ8_ANTG2               93154\n",
      "PLZ8_ANTG3               93154\n",
      "PLZ8_ANTG4               93154\n",
      "PLZ8_BAUMAX              93154\n",
      "PLZ8_HHZ                 93154\n",
      "PLZ8_GBZ                 93154\n",
      "ARBEIT                   93148\n",
      "ORTSGR_KLS9              93148\n",
      "RELAT_AB                 93148\n",
      "Length: 79, dtype: int64 ALTERSKATEGORIE_GROB      2803\n",
      "ANREDE_KZ                    0\n",
      "CJT_GESAMTTYP             4749\n",
      "FINANZ_MINIMALIST            0\n",
      "FINANZ_SPARER                0\n",
      "FINANZ_VORSORGER             0\n",
      "FINANZ_ANLEGER               0\n",
      "FINANZ_UNAUFFAELLIGER        0\n",
      "FINANZ_HAUSBAUER             0\n",
      "FINANZTYP                    0\n",
      "GFK_URLAUBERTYP           4749\n",
      "GREEN_AVANTGARDE             0\n",
      "HEALTH_TYP               36726\n",
      "LP_LEBENSPHASE_FEIN      50239\n",
      "LP_LEBENSPHASE_GROB      47346\n",
      "LP_FAMILIE_FEIN          31474\n",
      "LP_FAMILIE_GROB          31474\n",
      "LP_STATUS_FEIN            4749\n",
      "LP_STATUS_GROB            4749\n",
      "NATIONALITAET_KZ         33923\n",
      "PRAEGENDE_JUGENDJAHRE    28758\n",
      "RETOURTYP_BK_S            4749\n",
      "SEMIO_SOZ                    0\n",
      "SEMIO_FAM                    0\n",
      "SEMIO_REL                    0\n",
      "SEMIO_MAT                    0\n",
      "SEMIO_VERT                   0\n",
      "SEMIO_LUST                   0\n",
      "SEMIO_ERL                    0\n",
      "SEMIO_KULT                   0\n",
      "                         ...  \n",
      "MIN_GEBAEUDEJAHR             0\n",
      "OST_WEST_KZ                  0\n",
      "WOHNLAGE                     0\n",
      "CAMEO_DEUG_2015           6201\n",
      "CAMEO_DEU_2015            6201\n",
      "CAMEO_INTL_2015           6201\n",
      "KBA05_ANTG1              40170\n",
      "KBA05_ANTG2              40170\n",
      "KBA05_ANTG3              40170\n",
      "KBA05_ANTG4              40170\n",
      "KBA05_GBZ                40170\n",
      "BALLRAUM                   592\n",
      "EWDICHTE                   592\n",
      "INNENSTADT                 592\n",
      "GEBAEUDETYP_RASTER           7\n",
      "KKK                      64910\n",
      "MOBI_REGIO               40170\n",
      "ONLINE_AFFINITAET         4749\n",
      "REGIOTYP                 64910\n",
      "KBA13_ANZAHL_PKW         12647\n",
      "PLZ8_ANTG1               23361\n",
      "PLZ8_ANTG2               23361\n",
      "PLZ8_ANTG3               23361\n",
      "PLZ8_ANTG4               23361\n",
      "PLZ8_BAUMAX              23361\n",
      "PLZ8_HHZ                 23361\n",
      "PLZ8_GBZ                 23361\n",
      "ARBEIT                    4227\n",
      "ORTSGR_KLS9               4126\n",
      "RELAT_AB                  4227\n",
      "Length: 79, dtype: int64\n"
     ]
    }
   ],
   "source": [
    "#Find columns with few missing values\n",
    "#https://stackoverflow.com/questions/26266362/how-to-count-the-nan-values-in-a-column-in-pandas-dataframe\n",
    "\n",
    "na_count_above = aboveThreshold.isnull().sum(axis = 0)\n",
    "na_count_below = belowThreshold.isnull().sum(axis = 0)\n",
    "\n",
    "print(na_count_above, na_count_below)\n",
    "\n",
    "#Zero NaNs in both sets:\n",
    "#FINANZ_MINIMALIST             \n",
    "#HEALTH_TYP                    \n",
    "#NATIONALITAET_KZ\n",
    "#PRAEGENDE_JUGENDJAHRE\n",
    "#SEMIO_ERL"
   ]
  },
  {
   "cell_type": "code",
   "execution_count": 91,
   "metadata": {},
   "outputs": [
    {
     "name": "stderr",
     "output_type": "stream",
     "text": [
      "/opt/conda/lib/python3.6/site-packages/matplotlib/figure.py:418: UserWarning: matplotlib is currently using a non-GUI backend, so cannot show the figure\n",
      "  \"matplotlib is currently using a non-GUI backend, \"\n"
     ]
    },
    {
     "data": {
      "image/png": "[encoded data removed]",
      "text/plain": [
       "<matplotlib.figure.Figure at 0x7fe1ff989358>"
      ]
     },
     "metadata": {
      "needs_background": "light"
     },
     "output_type": "display_data"
    }
   ],
   "source": [
    "# Compare the distribution of values for at least five columns where there are\n",
    "# no or few missing values, between the two subsets.\n",
    "# You can use seaborn's countplot() function to create a bar chart of code frequencies and matplotlib's subplot() function to put bar charts for the two subplots side by side.\n",
    "# To reduce repeated code, you might want to write a function that can perform this comparison, taking as one of its arguments a column to be compared.\n",
    "\n",
    "fig, axes = plt.subplots(2, 5, figsize=(15,10))\n",
    "\n",
    "#sns.set(style=\"darkgrid\") \n",
    "sns.countplot(x=\"FINANZ_MINIMALIST\", data=aboveThreshold, ax = axes[0][0])\n",
    "sns.countplot(x=\"FINANZ_MINIMALIST\", data=belowThreshold, ax = axes[1][0])\n",
    "sns.countplot(x=\"HEALTH_TYP\", data=aboveThreshold, ax = axes[0][1])\n",
    "sns.countplot(x=\"HEALTH_TYP\", data=belowThreshold, ax = axes[1][1])\n",
    "sns.countplot(x=\"NATIONALITAET_KZ\", data=aboveThreshold, ax = axes[0][2])\n",
    "sns.countplot(x=\"NATIONALITAET_KZ\", data=belowThreshold, ax = axes[1][2])\n",
    "sns.countplot(x=\"PRAEGENDE_JUGENDJAHRE\", data=aboveThreshold, ax = axes[0][3])\n",
    "sns.countplot(x=\"PRAEGENDE_JUGENDJAHRE\", data=belowThreshold, ax = axes[1][3])\n",
    "sns.countplot(x=\"SEMIO_ERL\", data=aboveThreshold, ax = axes[0][4])\n",
    "sns.countplot(x=\"SEMIO_ERL\", data=belowThreshold, ax = axes[1][4])\n",
    "fig.show()\n",
    "\n",
    "#https://matplotlib.org/3.1.0/gallery/subplots_axes_and_figures/subplots_demo.html"
   ]
  },
  {
   "cell_type": "markdown",
   "metadata": {},
   "source": [
    "#### Discussion 1.1.3: Assess Missing Data in Each Row\n",
    "\n",
    "- Observations regarding missing data in rows --> The data quality is not so great, around 100,000 people have 30+ missing features, which is around 1/3 of all avaialable features. Those removed, the remaining dataset is pretty decent though with way less misssing features\n",
    "- Are the data with lots of missing values are qualitatively different from data with few or no missing values? --> They are mostly quite different, as you can see in the plot above. I chose columns of different categories to get a wider spread of information but still the distributions vary a lot, only \"NATIONALITAET_KZ\" seems to have some similarity\n",
    "\n",
    "**I'll continue the analysis using just the subset of the data with few or no missing values.**\n"
   ]
  },
  {
   "cell_type": "code",
   "execution_count": 96,
   "metadata": {},
   "outputs": [
    {
     "name": "stdout",
     "output_type": "stream",
     "text": [
      "(798067, 79)\n",
      "(798067, 79)\n",
      "   ALTERSKATEGORIE_GROB  ANREDE_KZ  CJT_GESAMTTYP  FINANZ_MINIMALIST  \\\n",
      "1                   1.0          2            5.0                  1   \n",
      "2                   3.0          2            3.0                  1   \n",
      "3                   4.0          2            2.0                  4   \n",
      "4                   3.0          1            5.0                  4   \n",
      "5                   1.0          2            2.0                  3   \n",
      "\n",
      "   FINANZ_SPARER  FINANZ_VORSORGER  FINANZ_ANLEGER  FINANZ_UNAUFFAELLIGER  \\\n",
      "1              5                 2               5                      4   \n",
      "2              4                 1               2                      3   \n",
      "3              2                 5               2                      1   \n",
      "4              3                 4               1                      3   \n",
      "5              1                 5               2                      2   \n",
      "\n",
      "   FINANZ_HAUSBAUER  FINANZTYP    ...     PLZ8_ANTG1  PLZ8_ANTG2  PLZ8_ANTG3  \\\n",
      "1                 5          1    ...            2.0         3.0         2.0   \n",
      "2                 5          1    ...            3.0         3.0         1.0   \n",
      "3                 2          6    ...            2.0         2.0         2.0   \n",
      "4                 2          5    ...            2.0         4.0         2.0   \n",
      "5                 5          2    ...            2.0         3.0         1.0   \n",
      "\n",
      "   PLZ8_ANTG4  PLZ8_BAUMAX  PLZ8_HHZ  PLZ8_GBZ  ARBEIT  ORTSGR_KLS9  RELAT_AB  \n",
      "1         1.0          1.0       5.0       4.0     3.0          5.0       4.0  \n",
      "2         0.0          1.0       4.0       4.0     3.0          5.0       2.0  \n",
      "3         0.0          1.0       3.0       4.0     2.0          3.0       3.0  \n",
      "4         1.0          2.0       3.0       3.0     4.0          6.0       5.0  \n",
      "5         1.0          1.0       5.0       5.0     2.0          3.0       3.0  \n",
      "\n",
      "[5 rows x 79 columns]\n",
      "  ALTERSKATEGORIE_GROB ANREDE_KZ CJT_GESAMTTYP FINANZ_MINIMALIST  \\\n",
      "1                    1         2             5                 1   \n",
      "2                    3         2             3                 1   \n",
      "3                    4         2             2                 4   \n",
      "4                    3         1             5                 4   \n",
      "5                    1         2             2                 3   \n",
      "\n",
      "  FINANZ_SPARER FINANZ_VORSORGER FINANZ_ANLEGER FINANZ_UNAUFFAELLIGER  \\\n",
      "1             5                2              5                     4   \n",
      "2             4                1              2                     3   \n",
      "3             2                5              2                     1   \n",
      "4             3                4              1                     3   \n",
      "5             1                5              2                     2   \n",
      "\n",
      "  FINANZ_HAUSBAUER FINANZTYP   ...    PLZ8_ANTG1 PLZ8_ANTG2 PLZ8_ANTG3  \\\n",
      "1                5         1   ...             2          3          2   \n",
      "2                5         1   ...             3          3          1   \n",
      "3                2         6   ...             2          2          2   \n",
      "4                2         5   ...             2          4          2   \n",
      "5                5         2   ...             2          3          1   \n",
      "\n",
      "  PLZ8_ANTG4 PLZ8_BAUMAX PLZ8_HHZ PLZ8_GBZ ARBEIT ORTSGR_KLS9 RELAT_AB  \n",
      "1          1           1        5        4      3           5        4  \n",
      "2          0           1        4        4      3           5        2  \n",
      "3          0           1        3        4      2           3        3  \n",
      "4          1           2        3        3      4           6        5  \n",
      "5          1           1        5        5      2           3        3  \n",
      "\n",
      "[5 rows x 79 columns]\n",
      "Data loaded\n"
     ]
    }
   ],
   "source": [
    "azdias_subset = pd.read_csv('2020_06_18_17_08_27_1.1.3_belowThreshold.csv', index_col=[0])\n",
    "# Load in the feature summary file.\n",
    "feat_info = pd.read_csv('AZDIAS_Feature_Summary.csv',sep=\";\")\n",
    "print(np.shape(azdias_subset))\n",
    "print(np.shape(belowThreshold))\n",
    "print(azdias_subset.head())\n",
    "print(belowThreshold.head())\n",
    "print(\"Data loaded\")\n"
   ]
  },
  {
   "cell_type": "markdown",
   "metadata": {},
   "source": [
    "### Step 1.2: Select and Re-Encode Features\n",
    "\n",
    "Checking for missing data isn't the only way in which you can prepare a dataset for analysis. Since the unsupervised learning techniques to be used will only work on data that is encoded numerically, you need to make a few encoding changes or additional assumptions to be able to make progress. In addition, while almost all of the values in the dataset are encoded using numbers, not all of them represent numeric values. Check the third column of the feature summary (`feat_info`) for a summary of types of measurement.\n",
    "- For numeric and interval data, these features can be kept without changes.\n",
    "- Most of the variables in the dataset are ordinal in nature. While ordinal values may technically be non-linear in spacing, make the simplifying assumption that the ordinal variables can be treated as being interval in nature (that is, kept without any changes).\n",
    "- Special handling may be necessary for the remaining two variable types: categorical, and 'mixed'.\n",
    "\n",
    "In the first two parts of this sub-step, you will perform an investigation of the categorical and mixed-type features and make a decision on each of them, whether you will keep, drop, or re-encode each. Then, in the last part, you will create a new data frame with only the selected and engineered columns.\n",
    "\n",
    "Data wrangling is often the trickiest part of the data analysis process, and there's a lot of it to be done here. But stick with it: once you're done with this step, you'll be ready to get to the machine learning parts of the project!"
   ]
  },
  {
   "cell_type": "code",
   "execution_count": 33,
   "metadata": {},
   "outputs": [
    {
     "name": "stdout",
     "output_type": "stream",
     "text": [
      "Feature info                 attribute information_level         type missing_or_unknown\n",
      "0                AGER_TYP            person  categorical             [-1,0]\n",
      "1    ALTERSKATEGORIE_GROB            person      ordinal           [-1,0,9]\n",
      "2               ANREDE_KZ            person  categorical             [-1,0]\n",
      "3           CJT_GESAMTTYP            person  categorical                [0]\n",
      "4       FINANZ_MINIMALIST            person      ordinal               [-1]\n",
      "5           FINANZ_SPARER            person      ordinal               [-1]\n",
      "6        FINANZ_VORSORGER            person      ordinal               [-1]\n",
      "7          FINANZ_ANLEGER            person      ordinal               [-1]\n",
      "8   FINANZ_UNAUFFAELLIGER            person      ordinal               [-1]\n",
      "9        FINANZ_HAUSBAUER            person      ordinal               [-1]\n",
      "10              FINANZTYP            person  categorical               [-1]\n",
      "11            GEBURTSJAHR            person      numeric                [0]\n",
      "12        GFK_URLAUBERTYP            person  categorical                 []\n",
      "13       GREEN_AVANTGARDE            person  categorical                 []\n",
      "14             HEALTH_TYP            person      ordinal             [-1,0]\n",
      "15    LP_LEBENSPHASE_FEIN            person        mixed                [0]\n",
      "16    LP_LEBENSPHASE_GROB            person        mixed                [0]\n",
      "17        LP_FAMILIE_FEIN            person  categorical                [0]\n",
      "18        LP_FAMILIE_GROB            person  categorical                [0]\n",
      "19         LP_STATUS_FEIN            person  categorical                [0]\n",
      "20         LP_STATUS_GROB            person  categorical                [0]\n",
      "21       NATIONALITAET_KZ            person  categorical             [-1,0]\n",
      "22  PRAEGENDE_JUGENDJAHRE            person        mixed             [-1,0]\n",
      "23         RETOURTYP_BK_S            person      ordinal                [0]\n",
      "24              SEMIO_SOZ            person      ordinal             [-1,9]\n",
      "25              SEMIO_FAM            person      ordinal             [-1,9]\n",
      "26              SEMIO_REL            person      ordinal             [-1,9]\n",
      "27              SEMIO_MAT            person      ordinal             [-1,9]\n",
      "28             SEMIO_VERT            person      ordinal             [-1,9]\n",
      "29             SEMIO_LUST            person      ordinal             [-1,9]\n",
      "..                    ...               ...          ...                ...\n",
      "55            OST_WEST_KZ          building  categorical               [-1]\n",
      "56               WOHNLAGE          building        mixed               [-1]\n",
      "57        CAMEO_DEUG_2015     microcell_rr4  categorical             [-1,X]\n",
      "58         CAMEO_DEU_2015     microcell_rr4  categorical               [XX]\n",
      "59        CAMEO_INTL_2015     microcell_rr4        mixed            [-1,XX]\n",
      "60            KBA05_ANTG1     microcell_rr3      ordinal               [-1]\n",
      "61            KBA05_ANTG2     microcell_rr3      ordinal               [-1]\n",
      "62            KBA05_ANTG3     microcell_rr3      ordinal               [-1]\n",
      "63            KBA05_ANTG4     microcell_rr3      ordinal               [-1]\n",
      "64           KBA05_BAUMAX     microcell_rr3        mixed             [-1,0]\n",
      "65              KBA05_GBZ     microcell_rr3      ordinal             [-1,0]\n",
      "66               BALLRAUM          postcode      ordinal               [-1]\n",
      "67               EWDICHTE          postcode      ordinal               [-1]\n",
      "68             INNENSTADT          postcode      ordinal               [-1]\n",
      "69     GEBAEUDETYP_RASTER        region_rr1      ordinal                 []\n",
      "70                    KKK        region_rr1      ordinal             [-1,0]\n",
      "71             MOBI_REGIO        region_rr1      ordinal                 []\n",
      "72      ONLINE_AFFINITAET        region_rr1      ordinal                 []\n",
      "73               REGIOTYP        region_rr1      ordinal             [-1,0]\n",
      "74       KBA13_ANZAHL_PKW    macrocell_plz8      numeric                 []\n",
      "75             PLZ8_ANTG1    macrocell_plz8      ordinal               [-1]\n",
      "76             PLZ8_ANTG2    macrocell_plz8      ordinal               [-1]\n",
      "77             PLZ8_ANTG3    macrocell_plz8      ordinal               [-1]\n",
      "78             PLZ8_ANTG4    macrocell_plz8      ordinal               [-1]\n",
      "79            PLZ8_BAUMAX    macrocell_plz8        mixed             [-1,0]\n",
      "80               PLZ8_HHZ    macrocell_plz8      ordinal               [-1]\n",
      "81               PLZ8_GBZ    macrocell_plz8      ordinal               [-1]\n",
      "82                 ARBEIT         community      ordinal             [-1,9]\n",
      "83            ORTSGR_KLS9         community      ordinal             [-1,0]\n",
      "84               RELAT_AB         community      ordinal             [-1,9]\n",
      "\n",
      "[85 rows x 4 columns]\n",
      "# of Categorical: 21\n",
      "# of Ordinal: 49\n",
      "# of Numeric: 7\n",
      "# of Mixed: 7\n"
     ]
    }
   ],
   "source": [
    "# How many features are there of each data type?\n",
    "#Types: 4: categorical, ordinal, numeric, mixed             \n",
    "print(\"Feature info\",feat_info)\n",
    "\n",
    "\n",
    "categorical = feat_info[feat_info['type'] == 'categorical']\n",
    "ordinal = feat_info[feat_info['type'] == 'ordinal']\n",
    "numeric = feat_info[feat_info['type'] == 'numeric']\n",
    "mixed = feat_info[feat_info['type'] == 'mixed']\n",
    "\n",
    "print(\"# of Categorical:\",len(categorical))\n",
    "print(\"# of Ordinal:\", len(ordinal))\n",
    "print(\"# of Numeric:\",len(numeric))\n",
    "print(\"# of Mixed:\",len(mixed))\n",
    "\n",
    "#Categorial and mixed need work"
   ]
  },
  {
   "cell_type": "markdown",
   "metadata": {},
   "source": [
    "#### Step 1.2.1: Re-Encode Categorical Features\n",
    "\n",
    "For categorical data, you would ordinarily need to encode the levels as dummy variables. Depending on the number of categories, perform one of the following:\n",
    "- For binary (two-level) categoricals that take numeric values, you can keep them without needing to do anything.\n",
    "- There is one binary variable that takes on non-numeric values. For this one, you need to re-encode the values as numbers or create a dummy variable.\n",
    "- For multi-level categoricals (three or more values), you can choose to encode the values using multiple dummy variables (e.g. via [OneHotEncoder](http://scikit-learn.org/stable/modules/generated/sklearn.preprocessing.OneHotEncoder.html)), or (to keep things straightforward) just drop them from the analysis. As always, document your choices in the Discussion section."
   ]
  },
  {
   "cell_type": "code",
   "execution_count": 98,
   "metadata": {},
   "outputs": [
    {
     "name": "stdout",
     "output_type": "stream",
     "text": [
      "Column: ANREDE_KZ\n",
      "2 [2 1]\n",
      "Column: CJT_GESAMTTYP\n",
      "7 [  5.   3.   2.   4.   1.   6.  nan]\n",
      "Column: FINANZTYP\n",
      "6 [1 6 5 2 4 3]\n",
      "Column: GFK_URLAUBERTYP\n",
      "13 [ 10.   1.   5.  12.   9.   3.   8.  11.   4.   2.   7.   6.  nan]\n",
      "Column: GREEN_AVANTGARDE\n",
      "2 [0 1]\n",
      "Column: LP_FAMILIE_FEIN\n",
      "12 [  5.   1.  nan  10.   2.   7.  11.   8.   4.   6.   9.   3.]\n",
      "Column: LP_FAMILIE_GROB\n",
      "6 [  3.   1.  nan   5.   2.   4.]\n",
      "Column: LP_STATUS_FEIN\n",
      "11 [  2.   3.   9.   4.   1.  10.   5.   8.   6.   7.  nan]\n",
      "Column: LP_STATUS_GROB\n",
      "6 [  1.   2.   4.   5.   3.  nan]\n",
      "Column: NATIONALITAET_KZ\n",
      "4 [  1.   3.   2.  nan]\n",
      "Column: SHOPPER_TYP\n",
      "5 [  3.   2.   1.   0.  nan]\n",
      "Column: SOHO_KZ\n",
      "2 [ 1.  0.]\n",
      "Column: VERS_TYP\n",
      "3 [  2.   1.  nan]\n",
      "Column: ZABEOTYP\n",
      "6 [5 3 4 1 6 2]\n",
      "Column: GEBAEUDETYP\n",
      "7 [ 8.  1.  3.  2.  6.  4.  5.]\n",
      "Column: OST_WEST_KZ\n",
      "2 ['W' 'O']\n",
      "Column: CAMEO_DEUG_2015\n",
      "10 [  8.   4.   2.   6.   1.   9.   5.   7.  nan   3.]\n",
      "Column: CAMEO_DEU_2015\n",
      "45 ['8A' '4C' '2A' '6B' '8C' '4A' '2D' '1A' '1E' '9D' '5C' '8B' '7A' '5D' '9E'\n",
      " nan '9B' '1B' '3D' '4E' '4B' '3C' '5A' '7B' '9A' '6D' '6E' '2C' '7C' '9C'\n",
      " '7D' '5E' '1D' '8D' '6C' '6A' '5B' '4D' '3A' '2B' '7E' '3B' '6F' '5F' '1C']\n"
     ]
    }
   ],
   "source": [
    "# Assess categorical variables: which are binary, which are multi-level, and\n",
    "# which one needs to be re-encoded?\n",
    "names = categorical['attribute'].values\n",
    "names = ['ANREDE_KZ' ,'CJT_GESAMTTYP', 'FINANZTYP', 'GFK_URLAUBERTYP',\n",
    " 'GREEN_AVANTGARDE' ,'LP_FAMILIE_FEIN' ,'LP_FAMILIE_GROB', 'LP_STATUS_FEIN',\n",
    " 'LP_STATUS_GROB', 'NATIONALITAET_KZ', 'SHOPPER_TYP' ,'SOHO_KZ', \n",
    " 'VERS_TYP' ,'ZABEOTYP' , 'GEBAEUDETYP' ,'OST_WEST_KZ',\n",
    " 'CAMEO_DEUG_2015', 'CAMEO_DEU_2015']\n",
    "#print(\"Categorical\", names)\n",
    "#print(azdias_subset[names])\n",
    "\n",
    "#https://chrisalbon.com/python/data_wrangling/pandas_list_unique_values_in_column/\n",
    "for column in names:\n",
    "    print(\"Column:\", column)\n",
    "    print(len(azdias_subset[column].unique()), azdias_subset[column].unique())\n",
    "\n",
    "#Binary:\n",
    "#Column: ANREDE_KZ\n",
    "#2 [2 1]\n",
    "#Column: GREEN_AVANTGARDE\n",
    "#2 [0 1]\n",
    "#Column: SOHO_KZ\n",
    "#2 [ 1.  0.]\n",
    "#Column: OST_WEST_KZ\n",
    "#2 ['W' 'O']\n",
    "\n",
    "#Multi-level:\n",
    "#Column: CJT_GESAMTTYP\n",
    "#7 [  5.   3.   2.   4.   1.   6.  nan]\n",
    "#Column: FINANZTYP\n",
    "#6 [1 6 5 2 4 3]\n",
    "#Column: GFK_URLAUBERTYP\n",
    "#13 [ 10.   1.   5.  12.   9.   3.   8.  11.   4.   2.   7.   6.  nan]\n",
    "#Column: LP_FAMILIE_FEIN\n",
    "#13 [  5.   1.   0.  10.   2.   7.  11.   8.   4.   6.  nan   9.   3.]\n",
    "#Column: LP_FAMILIE_GROB\n",
    "#7 [  3.   1.   0.   5.   2.   4.  nan]\n",
    "#Column: LP_STATUS_FEIN\n",
    "#11 [  2.   3.   9.   4.   1.  10.   5.   8.   6.   7.  nan]\n",
    "#Column: LP_STATUS_GROB\n",
    "#6 [  1.   2.   4.   5.   3.  nan]\n",
    "#Column: NATIONALITAET_KZ\n",
    "#4 [1 3 2 0]\n",
    "#Column: SHOPPER_TYP\n",
    "#5 [ 3  2  1  0 -1]\n",
    "#Column: VERS_TYP\n",
    "#3 [ 2  1 -1]\n",
    "#Column: ZABEOTYP\n",
    "#6 [5 3 4 1 6 2]\n",
    "#Column: GEBAEUDETYP\n",
    "#7 [ 8.  1.  3.  2.  6.  4.  5.]\n",
    "#Column: CAMEO_DEUG_2015\n",
    "#20 ['8' '4' '2' '6' '1' '9' '5' '7' nan '3' 'X' 3.0 8.0 7.0 4.0 1.0 5.0 9.0\n",
    "# 2.0 6.0]\n",
    "#Column: CAMEO_DEU_2015\n",
    "#46 ['8A' '4C' '2A' '6B' '8C' '4A' '2D' '1A' '1E' '9D' '5C' '8B' '7A' '5D' '9E'\n",
    "# nan '9B' '1B' '3D' '4E' '4B' '3C' '5A' '7B' '9A' '6D' '6E' '2C' '7C' '9C'\n",
    "# '7D' '5E' '1D' '8D' '6C' '6A' '5B' '4D' '3A' '2B' '7E' '3B' '6F' '5F' '1C'\n",
    "# 'XX']"
   ]
  },
  {
   "cell_type": "code",
   "execution_count": 2,
   "metadata": {},
   "outputs": [],
   "source": [
    "#https://queirozf.com/entries/one-hot-encoding-a-feature-on-a-pandas-dataframe-an-example\n",
    "def add_dummy_column(df, string):\n",
    "    df = pd.concat([df,pd.get_dummies(df[string], prefix=string,dummy_na=True)],axis=1).drop([string],axis=1)\n",
    "    return df"
   ]
  },
  {
   "cell_type": "code",
   "execution_count": 99,
   "metadata": {},
   "outputs": [],
   "source": [
    "\n",
    "#For this one, you need to re-encode the values as numbers or create a dummy variable.\n",
    "#Column: OST_WEST_KZ\n",
    "#2 ['W' 'O']\n",
    "azdias_subset = add_dummy_column(azdias_subset, 'OST_WEST_KZ')\n",
    "\n",
    "#For multi-level categoricals encode the values using multiple dummy variables (e.g. via OneHotEncoder\n",
    "azdias_subset = add_dummy_column(azdias_subset, 'CJT_GESAMTTYP')\n",
    "azdias_subset = add_dummy_column(azdias_subset, 'FINANZTYP')\n",
    "azdias_subset = add_dummy_column(azdias_subset, 'GFK_URLAUBERTYP')\n",
    "azdias_subset = add_dummy_column(azdias_subset, 'LP_FAMILIE_FEIN')\n",
    "azdias_subset = add_dummy_column(azdias_subset, 'LP_FAMILIE_GROB')\n",
    "azdias_subset = add_dummy_column(azdias_subset, 'LP_STATUS_FEIN')\n",
    "azdias_subset = add_dummy_column(azdias_subset, 'LP_STATUS_GROB')\n",
    "azdias_subset = add_dummy_column(azdias_subset, 'NATIONALITAET_KZ')\n",
    "azdias_subset = add_dummy_column(azdias_subset, 'SHOPPER_TYP')\n",
    "azdias_subset = add_dummy_column(azdias_subset, 'VERS_TYP')\n",
    "azdias_subset = add_dummy_column(azdias_subset, 'ZABEOTYP')\n",
    "azdias_subset = add_dummy_column(azdias_subset, 'GEBAEUDETYP')\n",
    "azdias_subset = add_dummy_column(azdias_subset, 'CAMEO_DEUG_2015')\n",
    "azdias_subset = add_dummy_column(azdias_subset, 'CAMEO_DEU_2015')"
   ]
  },
  {
   "cell_type": "code",
   "execution_count": 1,
   "metadata": {},
   "outputs": [
    {
     "ename": "NameError",
     "evalue": "name 'datetime' is not defined",
     "output_type": "error",
     "traceback": [
      "\u001b[0;31m---------------------------------------------------------------------------\u001b[0m",
      "\u001b[0;31mNameError\u001b[0m                                 Traceback (most recent call last)",
      "\u001b[0;32m<ipython-input-1-bd2f6d683baf>\u001b[0m in \u001b[0;36m<module>\u001b[0;34m()\u001b[0m\n\u001b[0;32m----> 1\u001b[0;31m \u001b[0mdateTimeObj\u001b[0m \u001b[0;34m=\u001b[0m \u001b[0mdatetime\u001b[0m\u001b[0;34m.\u001b[0m\u001b[0mnow\u001b[0m\u001b[0;34m(\u001b[0m\u001b[0;34m)\u001b[0m\u001b[0;34m\u001b[0m\u001b[0m\n\u001b[0m\u001b[1;32m      2\u001b[0m \u001b[0mtimestampStr\u001b[0m \u001b[0;34m=\u001b[0m \u001b[0mdateTimeObj\u001b[0m\u001b[0;34m.\u001b[0m\u001b[0mstrftime\u001b[0m\u001b[0;34m(\u001b[0m\u001b[0;34m\"%Y_%m_%d_%H_%M_%S\"\u001b[0m\u001b[0;34m)\u001b[0m\u001b[0;34m\u001b[0m\u001b[0m\n\u001b[1;32m      3\u001b[0m \u001b[0mazdias_subset\u001b[0m\u001b[0;34m.\u001b[0m\u001b[0mto_csv\u001b[0m\u001b[0;34m(\u001b[0m\u001b[0mtimestampStr\u001b[0m \u001b[0;34m+\u001b[0m \u001b[0;34m'_1.2.1_categorial_dummy_variables.csv'\u001b[0m\u001b[0;34m)\u001b[0m\u001b[0;34m\u001b[0m\u001b[0m\n",
      "\u001b[0;31mNameError\u001b[0m: name 'datetime' is not defined"
     ]
    }
   ],
   "source": [
    "dateTimeObj = datetime.now()\n",
    "timestampStr = dateTimeObj.strftime(\"%Y_%m_%d_%H_%M_%S\")\n",
    "azdias_subset.to_csv(timestampStr + '_1.2.1_categorial_dummy_variables.csv')"
   ]
  },
  {
   "cell_type": "code",
   "execution_count": 4,
   "metadata": {},
   "outputs": [
    {
     "name": "stdout",
     "output_type": "stream",
     "text": [
      "(798067, 211)\n"
     ]
    }
   ],
   "source": [
    "# Re-encode categorical variable(s) to be kept in the analysis.\n",
    "azdias_subset = pd.read_csv('2020_06_18_17_15_30_1.2.1_categorial_dummy_variables.csv', index_col=[0])\n",
    "# Load in the feature summary file.\n",
    "feat_info = pd.read_csv('AZDIAS_Feature_Summary.csv',sep=\";\")\n",
    "print(np.shape(azdias_subset))\n"
   ]
  },
  {
   "cell_type": "markdown",
   "metadata": {},
   "source": [
    "#### Discussion 1.2.1: Re-Encode Categorical Features\n",
    "\n",
    "I kept all and used get_dummies to encode them."
   ]
  },
  {
   "cell_type": "markdown",
   "metadata": {},
   "source": [
    "#### Step 1.2.2: Engineer Mixed-Type Features\n",
    "\n",
    "There are a handful of features that are marked as \"mixed\" in the feature summary that require special treatment in order to be included in the analysis. There are two in particular that deserve attention; the handling of the rest are up to your own choices:\n",
    "- \"PRAEGENDE_JUGENDJAHRE\" combines information on three dimensions: generation by decade, movement (mainstream vs. avantgarde), and nation (east vs. west). While there aren't enough levels to disentangle east from west, you should create two new variables to capture the other two dimensions: an interval-type variable for decade, and a binary variable for movement.\n",
    "- \"CAMEO_INTL_2015\" combines information on two axes: wealth and life stage. Break up the two-digit codes by their 'tens'-place and 'ones'-place digits into two new ordinal variables (which, for the purposes of this project, is equivalent to just treating them as their raw numeric values).\n",
    "- If you decide to keep or engineer new features around the other mixed-type features, make sure you note your steps in the Discussion section.\n",
    "\n",
    "Be sure to check `Data_Dictionary.md` for the details needed to finish these tasks."
   ]
  },
  {
   "cell_type": "code",
   "execution_count": 35,
   "metadata": {},
   "outputs": [
    {
     "name": "stdout",
     "output_type": "stream",
     "text": [
      "Mixed                 attribute information_level   type missing_or_unknown\n",
      "15    LP_LEBENSPHASE_FEIN            person  mixed                [0]\n",
      "16    LP_LEBENSPHASE_GROB            person  mixed                [0]\n",
      "22  PRAEGENDE_JUGENDJAHRE            person  mixed             [-1,0]\n",
      "56               WOHNLAGE          building  mixed               [-1]\n",
      "59        CAMEO_INTL_2015     microcell_rr4  mixed            [-1,XX]\n",
      "64           KBA05_BAUMAX     microcell_rr3  mixed             [-1,0]\n",
      "79            PLZ8_BAUMAX    macrocell_plz8  mixed             [-1,0]\n",
      "Column: LP_LEBENSPHASE_FEIN\n",
      "41 [ 21.   3.  nan  32.   8.   2.   5.  10.   4.   6.  23.  12.  20.   1.  11.\n",
      "  25.  13.  18.  31.  38.  35.  30.   7.  22.  14.  29.  24.  28.  37.  26.\n",
      "  39.  27.  36.   9.  34.  33.  15.  40.  16.  19.  17.]\n",
      "Column: LP_LEBENSPHASE_GROB\n",
      "13 [  6.   1.  nan  10.   2.   3.   5.   7.  12.  11.   9.   4.   8.]\n",
      "Column: WOHNLAGE\n",
      "8 [ 4.  2.  7.  3.  5.  1.  8.  0.]\n",
      "Column: PLZ8_BAUMAX\n",
      "6 [  1.   2.  nan   4.   5.   3.]\n"
     ]
    }
   ],
   "source": [
    "print(\"Mixed\",mixed)\n",
    "names = mixed['attribute'].values\n",
    "#KeyError: 'KBA05_BAUMAX'\n",
    "names = ['LP_LEBENSPHASE_FEIN', 'LP_LEBENSPHASE_GROB', 'WOHNLAGE', 'PLZ8_BAUMAX']\n",
    "\n",
    "#https://chrisalbon.com/python/data_wrangling/pandas_list_unique_values_in_column/\n",
    "for column in names:\n",
    "    print(\"Column:\", column)\n",
    "    print(len(azdias_subset[column].unique()), azdias_subset[column].unique())\n",
    "\n"
   ]
  },
  {
   "cell_type": "code",
   "execution_count": 27,
   "metadata": {},
   "outputs": [
    {
     "name": "stdout",
     "output_type": "stream",
     "text": [
      "BEFORE: (798067, 212)\n"
     ]
    },
    {
     "ename": "KeyError",
     "evalue": "'PRAEGENDE_JUGENDJAHRE'",
     "output_type": "error",
     "traceback": [
      "\u001b[0;31m---------------------------------------------------------------------------\u001b[0m",
      "\u001b[0;31mKeyError\u001b[0m                                  Traceback (most recent call last)",
      "\u001b[0;32m/opt/conda/lib/python3.6/site-packages/pandas/core/indexes/base.py\u001b[0m in \u001b[0;36mget_loc\u001b[0;34m(self, key, method, tolerance)\u001b[0m\n\u001b[1;32m   3077\u001b[0m             \u001b[0;32mtry\u001b[0m\u001b[0;34m:\u001b[0m\u001b[0;34m\u001b[0m\u001b[0m\n\u001b[0;32m-> 3078\u001b[0;31m                 \u001b[0;32mreturn\u001b[0m \u001b[0mself\u001b[0m\u001b[0;34m.\u001b[0m\u001b[0m_engine\u001b[0m\u001b[0;34m.\u001b[0m\u001b[0mget_loc\u001b[0m\u001b[0;34m(\u001b[0m\u001b[0mkey\u001b[0m\u001b[0;34m)\u001b[0m\u001b[0;34m\u001b[0m\u001b[0m\n\u001b[0m\u001b[1;32m   3079\u001b[0m             \u001b[0;32mexcept\u001b[0m \u001b[0mKeyError\u001b[0m\u001b[0;34m:\u001b[0m\u001b[0;34m\u001b[0m\u001b[0m\n",
      "\u001b[0;32mpandas/_libs/index.pyx\u001b[0m in \u001b[0;36mpandas._libs.index.IndexEngine.get_loc\u001b[0;34m()\u001b[0m\n",
      "\u001b[0;32mpandas/_libs/index.pyx\u001b[0m in \u001b[0;36mpandas._libs.index.IndexEngine.get_loc\u001b[0;34m()\u001b[0m\n",
      "\u001b[0;32mpandas/_libs/hashtable_class_helper.pxi\u001b[0m in \u001b[0;36mpandas._libs.hashtable.PyObjectHashTable.get_item\u001b[0;34m()\u001b[0m\n",
      "\u001b[0;32mpandas/_libs/hashtable_class_helper.pxi\u001b[0m in \u001b[0;36mpandas._libs.hashtable.PyObjectHashTable.get_item\u001b[0;34m()\u001b[0m\n",
      "\u001b[0;31mKeyError\u001b[0m: 'PRAEGENDE_JUGENDJAHRE'",
      "\nDuring handling of the above exception, another exception occurred:\n",
      "\u001b[0;31mKeyError\u001b[0m                                  Traceback (most recent call last)",
      "\u001b[0;32m<ipython-input-27-cf740b1dea3b>\u001b[0m in \u001b[0;36m<module>\u001b[0;34m()\u001b[0m\n\u001b[1;32m     28\u001b[0m \u001b[0mmovement_avantgarde\u001b[0m \u001b[0;34m=\u001b[0m \u001b[0;34m[\u001b[0m\u001b[0;36m2\u001b[0m\u001b[0;34m,\u001b[0m\u001b[0;36m4\u001b[0m\u001b[0;34m,\u001b[0m\u001b[0;36m6\u001b[0m\u001b[0;34m,\u001b[0m\u001b[0;36m7\u001b[0m\u001b[0;34m,\u001b[0m\u001b[0;36m9\u001b[0m\u001b[0;34m,\u001b[0m\u001b[0;36m11\u001b[0m\u001b[0;34m,\u001b[0m\u001b[0;36m13\u001b[0m\u001b[0;34m,\u001b[0m\u001b[0;36m15\u001b[0m\u001b[0;34m]\u001b[0m\u001b[0;34m\u001b[0m\u001b[0m\n\u001b[1;32m     29\u001b[0m \u001b[0;34m\u001b[0m\u001b[0m\n\u001b[0;32m---> 30\u001b[0;31m \u001b[0;32mfor\u001b[0m \u001b[0mi\u001b[0m\u001b[0;34m,\u001b[0m \u001b[0mentry\u001b[0m \u001b[0;32min\u001b[0m \u001b[0menumerate\u001b[0m\u001b[0;34m(\u001b[0m\u001b[0mazdias_subset\u001b[0m\u001b[0;34m[\u001b[0m\u001b[0;34m'PRAEGENDE_JUGENDJAHRE'\u001b[0m\u001b[0;34m]\u001b[0m\u001b[0;34m)\u001b[0m\u001b[0;34m:\u001b[0m\u001b[0;34m\u001b[0m\u001b[0m\n\u001b[0m\u001b[1;32m     31\u001b[0m     \u001b[0;32mif\u001b[0m \u001b[0;34m(\u001b[0m\u001b[0mpd\u001b[0m\u001b[0;34m.\u001b[0m\u001b[0misna\u001b[0m\u001b[0;34m(\u001b[0m\u001b[0mentry\u001b[0m\u001b[0;34m)\u001b[0m \u001b[0;34m==\u001b[0m \u001b[0;32mFalse\u001b[0m\u001b[0;34m)\u001b[0m\u001b[0;34m:\u001b[0m\u001b[0;34m\u001b[0m\u001b[0m\n\u001b[1;32m     32\u001b[0m         \u001b[0mvalue\u001b[0m \u001b[0;34m=\u001b[0m \u001b[0mint\u001b[0m\u001b[0;34m(\u001b[0m\u001b[0mentry\u001b[0m\u001b[0;34m)\u001b[0m\u001b[0;34m\u001b[0m\u001b[0m\n",
      "\u001b[0;32m/opt/conda/lib/python3.6/site-packages/pandas/core/frame.py\u001b[0m in \u001b[0;36m__getitem__\u001b[0;34m(self, key)\u001b[0m\n\u001b[1;32m   2686\u001b[0m             \u001b[0;32mreturn\u001b[0m \u001b[0mself\u001b[0m\u001b[0;34m.\u001b[0m\u001b[0m_getitem_multilevel\u001b[0m\u001b[0;34m(\u001b[0m\u001b[0mkey\u001b[0m\u001b[0;34m)\u001b[0m\u001b[0;34m\u001b[0m\u001b[0m\n\u001b[1;32m   2687\u001b[0m         \u001b[0;32melse\u001b[0m\u001b[0;34m:\u001b[0m\u001b[0;34m\u001b[0m\u001b[0m\n\u001b[0;32m-> 2688\u001b[0;31m             \u001b[0;32mreturn\u001b[0m \u001b[0mself\u001b[0m\u001b[0;34m.\u001b[0m\u001b[0m_getitem_column\u001b[0m\u001b[0;34m(\u001b[0m\u001b[0mkey\u001b[0m\u001b[0;34m)\u001b[0m\u001b[0;34m\u001b[0m\u001b[0m\n\u001b[0m\u001b[1;32m   2689\u001b[0m \u001b[0;34m\u001b[0m\u001b[0m\n\u001b[1;32m   2690\u001b[0m     \u001b[0;32mdef\u001b[0m \u001b[0m_getitem_column\u001b[0m\u001b[0;34m(\u001b[0m\u001b[0mself\u001b[0m\u001b[0;34m,\u001b[0m \u001b[0mkey\u001b[0m\u001b[0;34m)\u001b[0m\u001b[0;34m:\u001b[0m\u001b[0;34m\u001b[0m\u001b[0m\n",
      "\u001b[0;32m/opt/conda/lib/python3.6/site-packages/pandas/core/frame.py\u001b[0m in \u001b[0;36m_getitem_column\u001b[0;34m(self, key)\u001b[0m\n\u001b[1;32m   2693\u001b[0m         \u001b[0;31m# get column\u001b[0m\u001b[0;34m\u001b[0m\u001b[0;34m\u001b[0m\u001b[0m\n\u001b[1;32m   2694\u001b[0m         \u001b[0;32mif\u001b[0m \u001b[0mself\u001b[0m\u001b[0;34m.\u001b[0m\u001b[0mcolumns\u001b[0m\u001b[0;34m.\u001b[0m\u001b[0mis_unique\u001b[0m\u001b[0;34m:\u001b[0m\u001b[0;34m\u001b[0m\u001b[0m\n\u001b[0;32m-> 2695\u001b[0;31m             \u001b[0;32mreturn\u001b[0m \u001b[0mself\u001b[0m\u001b[0;34m.\u001b[0m\u001b[0m_get_item_cache\u001b[0m\u001b[0;34m(\u001b[0m\u001b[0mkey\u001b[0m\u001b[0;34m)\u001b[0m\u001b[0;34m\u001b[0m\u001b[0m\n\u001b[0m\u001b[1;32m   2696\u001b[0m \u001b[0;34m\u001b[0m\u001b[0m\n\u001b[1;32m   2697\u001b[0m         \u001b[0;31m# duplicate columns & possible reduce dimensionality\u001b[0m\u001b[0;34m\u001b[0m\u001b[0;34m\u001b[0m\u001b[0m\n",
      "\u001b[0;32m/opt/conda/lib/python3.6/site-packages/pandas/core/generic.py\u001b[0m in \u001b[0;36m_get_item_cache\u001b[0;34m(self, item)\u001b[0m\n\u001b[1;32m   2487\u001b[0m         \u001b[0mres\u001b[0m \u001b[0;34m=\u001b[0m \u001b[0mcache\u001b[0m\u001b[0;34m.\u001b[0m\u001b[0mget\u001b[0m\u001b[0;34m(\u001b[0m\u001b[0mitem\u001b[0m\u001b[0;34m)\u001b[0m\u001b[0;34m\u001b[0m\u001b[0m\n\u001b[1;32m   2488\u001b[0m         \u001b[0;32mif\u001b[0m \u001b[0mres\u001b[0m \u001b[0;32mis\u001b[0m \u001b[0;32mNone\u001b[0m\u001b[0;34m:\u001b[0m\u001b[0;34m\u001b[0m\u001b[0m\n\u001b[0;32m-> 2489\u001b[0;31m             \u001b[0mvalues\u001b[0m \u001b[0;34m=\u001b[0m \u001b[0mself\u001b[0m\u001b[0;34m.\u001b[0m\u001b[0m_data\u001b[0m\u001b[0;34m.\u001b[0m\u001b[0mget\u001b[0m\u001b[0;34m(\u001b[0m\u001b[0mitem\u001b[0m\u001b[0;34m)\u001b[0m\u001b[0;34m\u001b[0m\u001b[0m\n\u001b[0m\u001b[1;32m   2490\u001b[0m             \u001b[0mres\u001b[0m \u001b[0;34m=\u001b[0m \u001b[0mself\u001b[0m\u001b[0;34m.\u001b[0m\u001b[0m_box_item_values\u001b[0m\u001b[0;34m(\u001b[0m\u001b[0mitem\u001b[0m\u001b[0;34m,\u001b[0m \u001b[0mvalues\u001b[0m\u001b[0;34m)\u001b[0m\u001b[0;34m\u001b[0m\u001b[0m\n\u001b[1;32m   2491\u001b[0m             \u001b[0mcache\u001b[0m\u001b[0;34m[\u001b[0m\u001b[0mitem\u001b[0m\u001b[0;34m]\u001b[0m \u001b[0;34m=\u001b[0m \u001b[0mres\u001b[0m\u001b[0;34m\u001b[0m\u001b[0m\n",
      "\u001b[0;32m/opt/conda/lib/python3.6/site-packages/pandas/core/internals.py\u001b[0m in \u001b[0;36mget\u001b[0;34m(self, item, fastpath)\u001b[0m\n\u001b[1;32m   4113\u001b[0m \u001b[0;34m\u001b[0m\u001b[0m\n\u001b[1;32m   4114\u001b[0m             \u001b[0;32mif\u001b[0m \u001b[0;32mnot\u001b[0m \u001b[0misna\u001b[0m\u001b[0;34m(\u001b[0m\u001b[0mitem\u001b[0m\u001b[0;34m)\u001b[0m\u001b[0;34m:\u001b[0m\u001b[0;34m\u001b[0m\u001b[0m\n\u001b[0;32m-> 4115\u001b[0;31m                 \u001b[0mloc\u001b[0m \u001b[0;34m=\u001b[0m \u001b[0mself\u001b[0m\u001b[0;34m.\u001b[0m\u001b[0mitems\u001b[0m\u001b[0;34m.\u001b[0m\u001b[0mget_loc\u001b[0m\u001b[0;34m(\u001b[0m\u001b[0mitem\u001b[0m\u001b[0;34m)\u001b[0m\u001b[0;34m\u001b[0m\u001b[0m\n\u001b[0m\u001b[1;32m   4116\u001b[0m             \u001b[0;32melse\u001b[0m\u001b[0;34m:\u001b[0m\u001b[0;34m\u001b[0m\u001b[0m\n\u001b[1;32m   4117\u001b[0m                 \u001b[0mindexer\u001b[0m \u001b[0;34m=\u001b[0m \u001b[0mnp\u001b[0m\u001b[0;34m.\u001b[0m\u001b[0marange\u001b[0m\u001b[0;34m(\u001b[0m\u001b[0mlen\u001b[0m\u001b[0;34m(\u001b[0m\u001b[0mself\u001b[0m\u001b[0;34m.\u001b[0m\u001b[0mitems\u001b[0m\u001b[0;34m)\u001b[0m\u001b[0;34m)\u001b[0m\u001b[0;34m[\u001b[0m\u001b[0misna\u001b[0m\u001b[0;34m(\u001b[0m\u001b[0mself\u001b[0m\u001b[0;34m.\u001b[0m\u001b[0mitems\u001b[0m\u001b[0;34m)\u001b[0m\u001b[0;34m]\u001b[0m\u001b[0;34m\u001b[0m\u001b[0m\n",
      "\u001b[0;32m/opt/conda/lib/python3.6/site-packages/pandas/core/indexes/base.py\u001b[0m in \u001b[0;36mget_loc\u001b[0;34m(self, key, method, tolerance)\u001b[0m\n\u001b[1;32m   3078\u001b[0m                 \u001b[0;32mreturn\u001b[0m \u001b[0mself\u001b[0m\u001b[0;34m.\u001b[0m\u001b[0m_engine\u001b[0m\u001b[0;34m.\u001b[0m\u001b[0mget_loc\u001b[0m\u001b[0;34m(\u001b[0m\u001b[0mkey\u001b[0m\u001b[0;34m)\u001b[0m\u001b[0;34m\u001b[0m\u001b[0m\n\u001b[1;32m   3079\u001b[0m             \u001b[0;32mexcept\u001b[0m \u001b[0mKeyError\u001b[0m\u001b[0;34m:\u001b[0m\u001b[0;34m\u001b[0m\u001b[0m\n\u001b[0;32m-> 3080\u001b[0;31m                 \u001b[0;32mreturn\u001b[0m \u001b[0mself\u001b[0m\u001b[0;34m.\u001b[0m\u001b[0m_engine\u001b[0m\u001b[0;34m.\u001b[0m\u001b[0mget_loc\u001b[0m\u001b[0;34m(\u001b[0m\u001b[0mself\u001b[0m\u001b[0;34m.\u001b[0m\u001b[0m_maybe_cast_indexer\u001b[0m\u001b[0;34m(\u001b[0m\u001b[0mkey\u001b[0m\u001b[0;34m)\u001b[0m\u001b[0;34m)\u001b[0m\u001b[0;34m\u001b[0m\u001b[0m\n\u001b[0m\u001b[1;32m   3081\u001b[0m \u001b[0;34m\u001b[0m\u001b[0m\n\u001b[1;32m   3082\u001b[0m         \u001b[0mindexer\u001b[0m \u001b[0;34m=\u001b[0m \u001b[0mself\u001b[0m\u001b[0;34m.\u001b[0m\u001b[0mget_indexer\u001b[0m\u001b[0;34m(\u001b[0m\u001b[0;34m[\u001b[0m\u001b[0mkey\u001b[0m\u001b[0;34m]\u001b[0m\u001b[0;34m,\u001b[0m \u001b[0mmethod\u001b[0m\u001b[0;34m=\u001b[0m\u001b[0mmethod\u001b[0m\u001b[0;34m,\u001b[0m \u001b[0mtolerance\u001b[0m\u001b[0;34m=\u001b[0m\u001b[0mtolerance\u001b[0m\u001b[0;34m)\u001b[0m\u001b[0;34m\u001b[0m\u001b[0m\n",
      "\u001b[0;32mpandas/_libs/index.pyx\u001b[0m in \u001b[0;36mpandas._libs.index.IndexEngine.get_loc\u001b[0;34m()\u001b[0m\n",
      "\u001b[0;32mpandas/_libs/index.pyx\u001b[0m in \u001b[0;36mpandas._libs.index.IndexEngine.get_loc\u001b[0;34m()\u001b[0m\n",
      "\u001b[0;32mpandas/_libs/hashtable_class_helper.pxi\u001b[0m in \u001b[0;36mpandas._libs.hashtable.PyObjectHashTable.get_item\u001b[0;34m()\u001b[0m\n",
      "\u001b[0;32mpandas/_libs/hashtable_class_helper.pxi\u001b[0m in \u001b[0;36mpandas._libs.hashtable.PyObjectHashTable.get_item\u001b[0;34m()\u001b[0m\n",
      "\u001b[0;31mKeyError\u001b[0m: 'PRAEGENDE_JUGENDJAHRE'"
     ]
    }
   ],
   "source": [
    "# Investigate \"PRAEGENDE_JUGENDJAHRE\" and engineer two new variables.\n",
    "\n",
    "#\"PRAEGENDE_JUGENDJAHRE\" combines information on three dimensions:\n",
    "#generation by decade, movement (mainstream vs. avantgarde),\n",
    "#and nation (east vs. west). While there aren't enough levels to disentangle east from west,\n",
    "#you should create two new variables to capture the other two dimensions:\n",
    "#an interval-type variable for decade, and a binary variable for movement.\n",
    "\n",
    "#https://stackoverflow.com/questions/31103040/adding-an-np-array-as-a-column-in-a-pandas-dataframe\n",
    "\n",
    "PRAEGENDE_JUGENDJAHRE_DECADE = np.empty(np.shape(azdias_subset)[0])\n",
    "PRAEGENDE_JUGENDJAHRE_DECADE[:] = np.NaN\n",
    "\n",
    "PRAEGENDE_JUGENDJAHRE_MOVEMENT = np.empty(np.shape(azdias_subset)[0])\n",
    "PRAEGENDE_JUGENDJAHRE_MOVEMENT[:] = np.NaN\n",
    "\n",
    "print(\"BEFORE:\", np.shape(azdias_subset))\n",
    "#https://stackoverflow.com/questions/36757965/how-to-have-multiple-conditions-for-one-if-statement-in-python?noredirect=1&lq=1\n",
    "\n",
    "decade40s = [1,2]\n",
    "decade50s = [3,4]\n",
    "decade60s = [5,6,7]\n",
    "decade70s = [8,9]\n",
    "decade80s = [10,11,12,13]\n",
    "decade90s = [14,15]\n",
    "\n",
    "movement_mainstream = [1,3,5,8,10,12,14]\n",
    "movement_avantgarde = [2,4,6,7,9,11,13,15]\n",
    "\n",
    "for i, entry in enumerate(azdias_subset['PRAEGENDE_JUGENDJAHRE']):\n",
    "    if (pd.isna(entry) == False):\n",
    "        value = int(entry)\n",
    "        if (any(key == value for key in decade40s)):\n",
    "            PRAEGENDE_JUGENDJAHRE_DECADE[i] = 4\n",
    "        elif (any(key == value for key in decade50s)):\n",
    "            PRAEGENDE_JUGENDJAHRE_DECADE[i] = 5\n",
    "        elif (any(key == value for key in decade60s)):\n",
    "            PRAEGENDE_JUGENDJAHRE_DECADE[i] = 6\n",
    "        elif (any(key == value for key in decade70s)):\n",
    "            PRAEGENDE_JUGENDJAHRE_DECADE[i] = 7\n",
    "        elif (any(key == value for key in decade80s)):\n",
    "            PRAEGENDE_JUGENDJAHRE_DECADE[i] = 8\n",
    "        elif (any(key == value for key in decade90s)):\n",
    "            PRAEGENDE_JUGENDJAHRE_DECADE[i] = 9\n",
    "\n",
    "        if (any(key == value for key in movement_mainstream)):\n",
    "            PRAEGENDE_JUGENDJAHRE_MOVEMENT[i] = 0\n",
    "        elif (any(key == value for key in movement_avantgarde)):\n",
    "            PRAEGENDE_JUGENDJAHRE_MOVEMENT[i] = 1\n",
    "\n",
    "print(PRAEGENDE_JUGENDJAHRE_DECADE)\n",
    "print(PRAEGENDE_JUGENDJAHRE_MOVEMENT)\n",
    "\n",
    "azdias_subset['PRAEGENDE_JUGENDJAHRE_DECADE'] = PRAEGENDE_JUGENDJAHRE_DECADE\n",
    "azdias_subset['PRAEGENDE_JUGENDJAHRE_MOVEMENT'] = PRAEGENDE_JUGENDJAHRE_MOVEMENT\n",
    "\n",
    "azdias_subset.drop('PRAEGENDE_JUGENDJAHRE', axis=1, inplace=True)\n",
    "print(\"AFTER:\", np.shape(azdias_subset))\n"
   ]
  },
  {
   "cell_type": "code",
   "execution_count": 31,
   "metadata": {},
   "outputs": [
    {
     "name": "stdout",
     "output_type": "stream",
     "text": [
      "BEFORE: (798067, 212)\n",
      "[ 5.  2.  1. ...,  2.  5.  4.]\n",
      "[ 1.  4.  2. ...,  4.  1.  3.]\n",
      "AFTER: (798067, 213)\n"
     ]
    }
   ],
   "source": [
    "# Investigate \"CAMEO_INTL_2015\" and engineer two new variables.\n",
    "#Combines information on two axes: wealth and life stage.\n",
    "#Break up the two-digit codes by their 'tens'-place and 'ones'-place digits into two new\n",
    "#ordinal variables (which, for the purposes of this project, is equivalent to just treating\n",
    "#them as their raw numeric values).\n",
    "\n",
    "CAMEO_INTL_2015_WEALTH = np.empty(np.shape(azdias_subset)[0])\n",
    "CAMEO_INTL_2015_WEALTH[:] = np.NaN\n",
    "\n",
    "CAMEO_INTL_2015_LIFESTAGE = np.empty(np.shape(azdias_subset)[0])\n",
    "CAMEO_INTL_2015_LIFESTAGE[:] = np.NaN\n",
    "\n",
    "print(\"BEFORE:\", np.shape(azdias_subset))\n",
    "#https://stackoverflow.com/questions/36757965/how-to-have-multiple-conditions-for-one-if-statement-in-python?noredirect=1&lq=1\n",
    "\n",
    "for i, entry in enumerate(azdias_subset['CAMEO_INTL_2015']):\n",
    "    if (pd.isna(entry) == False):\n",
    "        value = int(entry)\n",
    "        digits = (int)(math.log10(value)) \n",
    "        first = (int)(value / pow(10, digits)) \n",
    "        last = (value % 10) \n",
    "        CAMEO_INTL_2015_WEALTH[i] = first\n",
    "        CAMEO_INTL_2015_LIFESTAGE[i] = last\n",
    "\n",
    "print(CAMEO_INTL_2015_WEALTH)\n",
    "print(CAMEO_INTL_2015_LIFESTAGE)\n",
    "        \n",
    "azdias_subset['CAMEO_INTL_2015_WEALTH'] = CAMEO_INTL_2015_WEALTH\n",
    "azdias_subset['CAMEO_INTL_2015_LIFESTAGE'] = CAMEO_INTL_2015_LIFESTAGE\n",
    "#\n",
    "azdias_subset.drop('CAMEO_INTL_2015', axis=1, inplace=True)\n",
    "print(\"AFTER:\", np.shape(azdias_subset))"
   ]
  },
  {
   "cell_type": "code",
   "execution_count": 36,
   "metadata": {},
   "outputs": [],
   "source": [
    "#handling of further mixed values\n",
    "azdias_subset.drop('LP_LEBENSPHASE_FEIN', axis=1, inplace=True)\n",
    "azdias_subset.drop('LP_LEBENSPHASE_GROB', axis=1, inplace=True)\n",
    "azdias_subset.drop('WOHNLAGE', axis=1, inplace=True)\n",
    "azdias_subset.drop('PLZ8_BAUMAX', axis=1, inplace=True)\n"
   ]
  },
  {
   "cell_type": "code",
   "execution_count": 37,
   "metadata": {},
   "outputs": [],
   "source": [
    "dateTimeObj = datetime.now()\n",
    "timestampStr = dateTimeObj.strftime(\"%Y_%m_%d_%H_%M_%S\")\n",
    "azdias_subset.to_csv(timestampStr + '_1.2.2_mixed_type_engineered.csv')"
   ]
  },
  {
   "cell_type": "markdown",
   "metadata": {},
   "source": [
    "#### Discussion 1.2.2: Engineer Mixed-Type Features\n",
    "\n",
    "- Reporting your findings and decisions regarding mixed-value features --> It's quite a lot of work if people don't have machine learning in mind when they create a dataset, especially those mixed-types\n",
    "- Which ones did you keep, which did you drop, and what engineering steps did you perform? --> I kept the two necessary and dropped the rest"
   ]
  },
  {
   "cell_type": "markdown",
   "metadata": {},
   "source": [
    "#### Step 1.2.3: Complete Feature Selection\n",
    "\n",
    "In order to finish this step up, you need to make sure that your data frame now only has the columns that you want to keep. To summarize, the dataframe should consist of the following:\n",
    "- All numeric, interval, and ordinal type columns from the original dataset.\n",
    "- Binary categorical features (all numerically-encoded).\n",
    "- Engineered features from other multi-level categorical features and mixed features.\n",
    "\n",
    "Make sure that for any new columns that you have engineered, that you've excluded the original columns from the final dataset. Otherwise, their values will interfere with the analysis later on the project. For example, you should not keep \"PRAEGENDE_JUGENDJAHRE\", since its values won't be useful for the algorithm: only the values derived from it in the engineered features you created should be retained. As a reminder, your data should only be from **the subset with few or no missing values**."
   ]
  },
  {
   "cell_type": "code",
   "execution_count": null,
   "metadata": {},
   "outputs": [],
   "source": [
    "# If there are other re-engineering tasks you need to perform, make sure you\n",
    "# take care of them here. (Dealing with missing data will come in step 2.1.)\n",
    "\n",
    "#This is all done already"
   ]
  },
  {
   "cell_type": "code",
   "execution_count": null,
   "metadata": {},
   "outputs": [],
   "source": [
    "# Do whatever you need to in order to ensure that the dataframe only contains\n",
    "# the columns that should be passed to the algorithm functions.\n",
    "\n",
    "#This is all done already"
   ]
  },
  {
   "cell_type": "markdown",
   "metadata": {},
   "source": [
    "### Step 1.3: Create a Cleaning Function\n",
    "\n",
    "Even though you've finished cleaning up the general population demographics data, it's important to look ahead to the future and realize that you'll need to perform the same cleaning steps on the customer demographics data. In this substep, complete the function below to execute the main feature selection, encoding, and re-engineering steps you performed above. Then, when it comes to looking at the customer data in Step 3, you can just run this function on that DataFrame to get the trimmed dataset in a single step."
   ]
  },
  {
   "cell_type": "code",
   "execution_count": 24,
   "metadata": {},
   "outputs": [],
   "source": [
    "#FURTHER DOWN"
   ]
  },
  {
   "cell_type": "markdown",
   "metadata": {},
   "source": [
    "## Step 2: Feature Transformation\n",
    "\n",
    "### Step 2.1: Apply Feature Scaling\n",
    "\n",
    "Before we apply dimensionality reduction techniques to the data, we need to perform feature scaling so that the principal component vectors are not influenced by the natural differences in scale for features. Starting from this part of the project, you'll want to keep an eye on the [API reference page for sklearn](http://scikit-learn.org/stable/modules/classes.html) to help you navigate to all of the classes and functions that you'll need. In this substep, you'll need to check the following:\n",
    "\n",
    "- sklearn requires that data not have missing values in order for its estimators to work properly. So, before applying the scaler to your data, make sure that you've cleaned the DataFrame of the remaining missing values. This can be as simple as just removing all data points with missing data, or applying an [Imputer](http://scikit-learn.org/stable/modules/generated/sklearn.preprocessing.Imputer.html) to replace all missing values. You might also try a more complicated procedure where you temporarily remove missing values in order to compute the scaling parameters before re-introducing those missing values and applying imputation. Think about how much missing data you have and what possible effects each approach might have on your analysis, and justify your decision in the discussion section below.\n",
    "- For the actual scaling function, a [StandardScaler](http://scikit-learn.org/stable/modules/generated/sklearn.preprocessing.StandardScaler.html) instance is suggested, scaling each feature to mean 0 and standard deviation 1.\n",
    "- For these classes, you can make use of the `.fit_transform()` method to both fit a procedure to the data as well as apply the transformation to the data at the same time. Don't forget to keep the fit sklearn objects handy, since you'll be applying them to the customer demographics data towards the end of the project."
   ]
  },
  {
   "cell_type": "code",
   "execution_count": 45,
   "metadata": {},
   "outputs": [
    {
     "name": "stdout",
     "output_type": "stream",
     "text": [
      "Data loaded\n"
     ]
    }
   ],
   "source": [
    "azdias_subset = pd.read_csv('2020_06_18_19_26_58_1.2.2_mixed_type_engineered.csv', index_col=[0])\n",
    "feat_info = pd.read_csv('AZDIAS_Feature_Summary.csv',sep=\";\")\n",
    "print(\"Data loaded\")"
   ]
  },
  {
   "cell_type": "code",
   "execution_count": 46,
   "metadata": {},
   "outputs": [],
   "source": [
    "fill_NaN = Imputer(missing_values=np.nan, strategy='mean', axis=1)\n",
    "imputer_transform = fill_NaN.fit_transform(azdias_subset)\n",
    "imputed_DF = pd.DataFrame(imputer_transform)\n",
    "imputed_DF.columns = azdias_subset.columns\n",
    "imputed_DF.index = azdias_subset.index"
   ]
  },
  {
   "cell_type": "code",
   "execution_count": 53,
   "metadata": {},
   "outputs": [],
   "source": [
    "dateTimeObj = datetime.now()\n",
    "timestampStr = dateTimeObj.strftime(\"%Y_%m_%d_%H_%M_%S\")\n",
    "imputed_DF.to_csv(timestampStr + '_2.1_imputed.csv')"
   ]
  },
  {
   "cell_type": "code",
   "execution_count": 2,
   "metadata": {},
   "outputs": [
    {
     "name": "stdout",
     "output_type": "stream",
     "text": [
      "Data loaded\n"
     ]
    }
   ],
   "source": [
    "# Re-encode categorical variable(s) to be kept in the analysis.\n",
    "imputed_DF = pd.read_csv('2020_06_18_19_52_07_2.1_imputed.csv', index_col=[0])\n",
    "# Load in the feature summary file.\n",
    "feat_info = pd.read_csv('AZDIAS_Feature_Summary.csv',sep=\";\")\n",
    "print(\"Data loaded\")"
   ]
  },
  {
   "cell_type": "code",
   "execution_count": 47,
   "metadata": {},
   "outputs": [
    {
     "name": "stdout",
     "output_type": "stream",
     "text": [
      "Scaling done\n"
     ]
    }
   ],
   "source": [
    "# Apply feature scaling to the general population demographics data.\n",
    "\n",
    "ss = StandardScaler()\n",
    "scaler_transform = ss.fit_transform(imputed_DF)\n",
    "df_scaled = pd.DataFrame(scaler_transform,columns = imputed_DF.columns)\n",
    "print(\"Scaling done\")"
   ]
  },
  {
   "cell_type": "code",
   "execution_count": 51,
   "metadata": {},
   "outputs": [
    {
     "name": "stdout",
     "output_type": "stream",
     "text": [
      "   ALTERSKATEGORIE_GROB  ANREDE_KZ  FINANZ_MINIMALIST  FINANZ_SPARER  \\\n",
      "0             -1.518105   0.957912          -1.494594       1.537920   \n",
      "1              0.137668   0.957912          -1.494594       0.864560   \n",
      "2              0.965555   0.957912           0.683145      -0.482159   \n",
      "3              0.137668  -1.043937           0.683145       0.191200   \n",
      "4             -1.518105   0.957912          -0.042768      -1.155519   \n",
      "\n",
      "   FINANZ_VORSORGER  FINANZ_ANLEGER  FINANZ_UNAUFFAELLIGER  FINANZ_HAUSBAUER  \\\n",
      "0         -1.040686        1.465965               0.958633          1.339319   \n",
      "1         -1.766972       -0.570999               0.244109          1.339319   \n",
      "2          1.138172       -0.570999              -1.184938         -0.791197   \n",
      "3          0.411886       -1.249987               0.244109         -0.791197   \n",
      "4          1.138172       -0.570999              -0.470414          1.339319   \n",
      "\n",
      "   GREEN_AVANTGARDE  HEALTH_TYP            ...              CAMEO_DEU_2015_9A  \\\n",
      "0         -0.530407    0.109200            ...                      -0.162541   \n",
      "1          1.885345    0.109200            ...                      -0.162541   \n",
      "2         -0.530407   -0.286663            ...                      -0.162541   \n",
      "3         -0.530407    0.109200            ...                      -0.162541   \n",
      "4         -0.530407    0.109200            ...                      -0.162541   \n",
      "\n",
      "   CAMEO_DEU_2015_9B  CAMEO_DEU_2015_9C  CAMEO_DEU_2015_9D  CAMEO_DEU_2015_9E  \\\n",
      "0          -0.189538          -0.179781          -0.192767          -0.089763   \n",
      "1          -0.189538          -0.179781          -0.192767          -0.089763   \n",
      "2          -0.189538          -0.179781          -0.192767          -0.089763   \n",
      "3          -0.189538          -0.179781          -0.192767          -0.089763   \n",
      "4          -0.189538          -0.179781          -0.192767          -0.089763   \n",
      "\n",
      "   CAMEO_DEU_2015_nan  PRAEGENDE_JUGENDJAHRE_DECADE  \\\n",
      "0           -0.088492                      0.770206   \n",
      "1           -0.088492                      0.770206   \n",
      "2           -0.088492                     -0.297510   \n",
      "3           -0.088492                     -0.297510   \n",
      "4           -0.088492                     -1.365226   \n",
      "\n",
      "   PRAEGENDE_JUGENDJAHRE_MOVEMENT  CAMEO_INTL_2015_WEALTH  \\\n",
      "0                       -0.278767                0.994845   \n",
      "1                        0.114393               -0.796323   \n",
      "2                       -0.278767               -1.393379   \n",
      "3                       -0.278767                0.397789   \n",
      "4                       -0.278767                0.994845   \n",
      "\n",
      "   CAMEO_INTL_2015_LIFESTAGE  \n",
      "0                  -1.139598  \n",
      "1                   0.615700  \n",
      "2                  -0.554499  \n",
      "3                   0.030601  \n",
      "4                   0.615700  \n",
      "\n",
      "[5 rows x 209 columns]\n"
     ]
    }
   ],
   "source": [
    "#SCALED BECOMES TOO HUGE TO STORE (?!?!?!)"
   ]
  },
  {
   "cell_type": "markdown",
   "metadata": {},
   "source": [
    "### Discussion 2.1: Apply Feature Scaling\n",
    "\n",
    "- reporting your decisions regarding feature scaling --> I chose an imputer with mean-values to fill NaN and the suggested StandardScaler afterwards"
   ]
  },
  {
   "cell_type": "markdown",
   "metadata": {},
   "source": [
    "### Step 2.2: Perform Dimensionality Reduction\n",
    "\n",
    "On your scaled data, you are now ready to apply dimensionality reduction techniques.\n",
    "\n",
    "- Use sklearn's [PCA](http://scikit-learn.org/stable/modules/generated/sklearn.decomposition.PCA.html) class to apply principal component analysis on the data, thus finding the vectors of maximal variance in the data. To start, you should not set any parameters (so all components are computed) or set a number of components that is at least half the number of features (so there's enough features to see the general trend in variability).\n",
    "- Check out the ratio of variance explained by each principal component as well as the cumulative variance explained. Try plotting the cumulative or sequential values using matplotlib's [`plot()`](https://matplotlib.org/api/_as_gen/matplotlib.pyplot.plot.html) function. Based on what you find, select a value for the number of transformed features you'll retain for the clustering part of the project.\n",
    "- Once you've made a choice for the number of components to keep, make sure you re-fit a PCA instance to perform the decided-on transformation."
   ]
  },
  {
   "cell_type": "code",
   "execution_count": 6,
   "metadata": {},
   "outputs": [],
   "source": [
    "# Apply PCA to the data.\n",
    "pca = PCA()\n",
    "principalComponents = pca.fit_transform(df_scaled)"
   ]
  },
  {
   "cell_type": "code",
   "execution_count": 27,
   "metadata": {},
   "outputs": [],
   "source": [
    "def pca_results(full_dataset, pca):\n",
    "\n",
    "    # Dimension indexing\n",
    "    dimensions = ['Dimension {}'.format(i) for i in range(1,len(pca.components_)+1)]\n",
    "\n",
    "    # PCA components\n",
    "    components = pd.DataFrame(np.round(pca.components_, 4), columns = full_dataset.keys())\n",
    "    components.index = dimensions\n",
    "\n",
    "    # PCA explained variance\n",
    "    ratios = pca.explained_variance_ratio_.reshape(len(pca.components_), 1)\n",
    "    variance_ratios = pd.DataFrame(np.round(ratios, 4), columns = ['Explained Variance'])\n",
    "    variance_ratios.index = dimensions\n",
    "\n",
    "    # Create a bar plot visualization\n",
    "    fig, ax = plt.subplots(figsize = (14,8))\n",
    "\n",
    "    # Plot the feature weights as a function of the components\n",
    "    components.plot(ax = ax, kind = 'bar');\n",
    "    ax.set_ylabel(\"Feature Weights\")\n",
    "    ax.set_xticklabels(dimensions, rotation=0)\n",
    "\n",
    "\n",
    "    # Display the explained variance ratios\n",
    "    for i, ev in enumerate(pca.explained_variance_ratio_):\n",
    "        ax.text(i-0.40, ax.get_ylim()[1] + 0.05, \"Explained Variance\\n          %.4f\"%(ev))\n",
    "\n",
    "    # Return a concatenated DataFrame\n",
    "    return pd.concat([variance_ratios, components], axis = 1)"
   ]
  },
  {
   "cell_type": "code",
   "execution_count": 7,
   "metadata": {},
   "outputs": [
    {
     "name": "stdout",
     "output_type": "stream",
     "text": [
      "0 : 0.0611227468753\n",
      "1 : 0.112966922479\n",
      "2 : 0.149399615951\n",
      "3 : 0.18170763229\n",
      "4 : 0.206701673169\n",
      "5 : 0.2304357846\n",
      "6 : 0.252620657704\n",
      "7 : 0.26992832988\n",
      "8 : 0.285395905646\n",
      "9 : 0.299445902161\n",
      "10 : 0.313072160797\n",
      "11 : 0.325878993234\n",
      "12 : 0.338193265746\n",
      "13 : 0.350182033327\n",
      "14 : 0.361849056034\n",
      "15 : 0.372841327391\n",
      "16 : 0.383773345667\n",
      "17 : 0.394486978044\n",
      "18 : 0.405072245284\n",
      "19 : 0.415574249765\n",
      "20 : 0.426042180149\n",
      "21 : 0.436420005242\n",
      "22 : 0.446558249166\n",
      "23 : 0.456617859362\n",
      "24 : 0.466323765563\n",
      "25 : 0.475836692951\n",
      "26 : 0.484908317663\n",
      "27 : 0.493448641022\n",
      "28 : 0.501746184886\n",
      "29 : 0.509822444345\n",
      "30 : 0.517367118021\n",
      "31 : 0.524825308186\n",
      "32 : 0.53184068996\n",
      "33 : 0.538824232756\n",
      "34 : 0.545513029284\n",
      "35 : 0.552154834295\n",
      "36 : 0.558629172939\n",
      "37 : 0.56484959194\n",
      "38 : 0.571034003168\n",
      "39 : 0.577090564746\n",
      "40 : 0.583134890862\n",
      "41 : 0.589086653235\n",
      "42 : 0.594855355279\n",
      "43 : 0.600526739214\n",
      "44 : 0.606154223748\n",
      "45 : 0.611714335562\n",
      "46 : 0.617272772836\n",
      "47 : 0.622738096884\n",
      "48 : 0.628177054107\n",
      "49 : 0.633557253202\n",
      "50 : 0.638915938784\n",
      "51 : 0.644227048578\n",
      "52 : 0.649470456708\n",
      "53 : 0.654696086247\n",
      "54 : 0.659902394644\n",
      "55 : 0.665075256327\n",
      "56 : 0.670219218015\n",
      "57 : 0.675336652453\n",
      "58 : 0.680421661523\n",
      "59 : 0.685501392142\n",
      "60 : 0.690566628775\n",
      "61 : 0.695620949147\n",
      "62 : 0.700653788507\n",
      "63 : 0.705684927092\n",
      "64 : 0.710698807986\n",
      "65 : 0.715705331591\n",
      "66 : 0.720708842713\n",
      "67 : 0.72569302593\n",
      "68 : 0.730672622666\n",
      "69 : 0.735646012212\n",
      "70 : 0.740614661716\n",
      "71 : 0.745576044215\n",
      "72 : 0.75052169559\n",
      "73 : 0.755460784428\n",
      "74 : 0.760396338897\n",
      "75 : 0.765329984268\n",
      "76 : 0.770258876842\n",
      "77 : 0.775183999155\n",
      "78 : 0.780106911278\n",
      "79 : 0.785023261819\n",
      "80 : 0.789938157414\n",
      "81 : 0.794850914706\n",
      "82 : 0.79975684004\n",
      "83 : 0.804661609586\n",
      "84 : 0.809561426328\n",
      "85 : 0.814450854521\n",
      "86 : 0.819334568423\n",
      "87 : 0.824216830192\n",
      "88 : 0.829091784592\n",
      "89 : 0.833954938388\n",
      "90 : 0.83881169603\n",
      "91 : 0.843638741923\n",
      "92 : 0.848462418874\n",
      "93 : 0.853266054046\n",
      "94 : 0.858047397296\n",
      "95 : 0.862793498369\n",
      "96 : 0.867516284094\n",
      "97 : 0.872179201759\n",
      "98 : 0.876775088354\n",
      "99 : 0.881337957323\n",
      "100 : 0.885806339711\n",
      "101 : 0.890261797183\n",
      "102 : 0.894589367889\n",
      "103 : 0.898906345473\n",
      "104 : 0.903150290971\n",
      "105 : 0.907361295731\n",
      "106 : 0.911562813656\n",
      "107 : 0.915629308098\n",
      "108 : 0.919566920931\n",
      "109 : 0.92344113738\n",
      "110 : 0.92719058995\n",
      "111 : 0.930694825483\n",
      "112 : 0.934081121849\n",
      "113 : 0.93739718236\n",
      "114 : 0.940628868516\n",
      "115 : 0.943712080128\n",
      "116 : 0.946621069908\n",
      "117 : 0.949467411728\n",
      "118 : 0.952037748173\n",
      "119 : 0.954508338278\n",
      "120 : 0.95684417879\n",
      "121 : 0.959116503527\n",
      "122 : 0.961317629722\n",
      "123 : 0.963487891816\n",
      "124 : 0.965388176937\n",
      "125 : 0.967176204871\n",
      "126 : 0.968933404216\n",
      "127 : 0.970627388281\n",
      "128 : 0.972241933531\n",
      "129 : 0.973821105454\n",
      "130 : 0.975321827067\n",
      "131 : 0.976766928173\n",
      "132 : 0.978131454096\n",
      "133 : 0.979446655701\n",
      "134 : 0.980718904543\n",
      "135 : 0.981964299284\n",
      "136 : 0.983202768945\n",
      "137 : 0.984406007556\n",
      "138 : 0.985503704293\n",
      "139 : 0.986582936017\n",
      "140 : 0.987577661229\n",
      "141 : 0.988525641986\n",
      "142 : 0.989449173587\n",
      "143 : 0.990343612593\n",
      "144 : 0.991189152733\n",
      "145 : 0.992007435965\n",
      "146 : 0.992754672981\n",
      "147 : 0.993475477159\n",
      "148 : 0.994168864021\n",
      "149 : 0.994837435381\n",
      "150 : 0.995471096563\n",
      "151 : 0.996046939446\n",
      "152 : 0.996501197835\n",
      "153 : 0.996915978533\n",
      "154 : 0.997302483859\n",
      "155 : 0.997674234979\n",
      "156 : 0.998028057444\n",
      "157 : 0.998354406879\n",
      "158 : 0.9986737579\n",
      "159 : 0.998944856765\n",
      "160 : 0.999203120838\n",
      "161 : 0.999413706892\n",
      "162 : 0.999598955097\n",
      "163 : 0.999760246165\n",
      "164 : 0.999897244276\n",
      "165 : 0.999953853496\n",
      "166 : 1.0\n",
      "167 : 1.0\n",
      "168 : 1.0\n",
      "169 : 1.0\n",
      "170 : 1.0\n",
      "171 : 1.0\n",
      "172 : 1.0\n",
      "173 : 1.0\n",
      "174 : 1.0\n",
      "175 : 1.0\n",
      "176 : 1.0\n",
      "177 : 1.0\n",
      "178 : 1.0\n",
      "179 : 1.0\n",
      "180 : 1.0\n",
      "181 : 1.0\n",
      "182 : 1.0\n",
      "183 : 1.0\n",
      "184 : 1.0\n",
      "185 : 1.0\n",
      "186 : 1.0\n",
      "187 : 1.0\n",
      "188 : 1.0\n",
      "189 : 1.0\n",
      "190 : 1.0\n",
      "191 : 1.0\n",
      "192 : 1.0\n",
      "193 : 1.0\n",
      "194 : 1.0\n",
      "195 : 1.0\n",
      "196 : 1.0\n",
      "197 : 1.0\n",
      "198 : 1.0\n",
      "199 : 1.0\n",
      "200 : 1.0\n",
      "201 : 1.0\n",
      "202 : 1.0\n",
      "203 : 1.0\n",
      "204 : 1.0\n",
      "205 : 1.0\n",
      "206 : 1.0\n",
      "207 : 1.0\n",
      "208 : 1.0\n"
     ]
    },
    {
     "data": {
      "image/png": "[encoded data removed]",
      "text/plain": [
       "<matplotlib.figure.Figure at 0x7fe78fb484e0>"
      ]
     },
     "metadata": {
      "needs_background": "light"
     },
     "output_type": "display_data"
    }
   ],
   "source": [
    "# Investigate the variance accounted for by each principal component.\n",
    "#pca_results(df_scaled, pca)#takes very long\n",
    "\n",
    "#print(pca.components_)\n",
    "#print(pca.explained_variance_)\n",
    "\n",
    "#plt.plot(pca.explained_variance_,color=\"red\")\n",
    "currentPercentage = 0\n",
    "mySum = np.empty(len(pca.explained_variance_ratio_))\n",
    "for i, entry in enumerate(pca.explained_variance_ratio_):\n",
    "    currentPercentage += entry\n",
    "    mySum[i] = currentPercentage\n",
    "    print(i,\":\",currentPercentage)\n",
    "    \n",
    "plt.plot(mySum,color=\"red\")\n",
    "plt.plot(pca.explained_variance_ratio_,color=\"blue\")\n",
    "plt.show()"
   ]
  },
  {
   "cell_type": "code",
   "execution_count": 51,
   "metadata": {},
   "outputs": [
    {
     "name": "stdout",
     "output_type": "stream",
     "text": [
      "PCA done\n"
     ]
    }
   ],
   "source": [
    "# Re-apply PCA to the data while selecting for number of components to retain.\n",
    "\n",
    "#85% can be explained with ~100 components\n",
    "n_components = 100\n",
    "pca = PCA(n_components)\n",
    "pca.fit(df_scaled)\n",
    "principalComponents = pca.transform(df_scaled)\n",
    "print(\"PCA done\")"
   ]
  },
  {
   "cell_type": "code",
   "execution_count": 9,
   "metadata": {},
   "outputs": [
    {
     "data": {
      "image/png": "[encoded data removed]",
      "text/plain": [
       "<matplotlib.figure.Figure at 0x7fe7bc147ac8>"
      ]
     },
     "metadata": {
      "needs_background": "light"
     },
     "output_type": "display_data"
    }
   ],
   "source": [
    "currentPercentage = 0\n",
    "mySum = np.empty(len(pca.explained_variance_ratio_))\n",
    "for i, entry in enumerate(pca.explained_variance_ratio_):\n",
    "    currentPercentage += entry\n",
    "    mySum[i] = currentPercentage\n",
    "    \n",
    "plt.plot(mySum,color=\"red\")\n",
    "plt.plot(pca.explained_variance_ratio_,color=\"blue\")\n",
    "plt.show()"
   ]
  },
  {
   "cell_type": "markdown",
   "metadata": {},
   "source": [
    "### Discussion 2.2: Perform Dimensionality Reduction\n",
    "\n",
    "- reporting your findings and decisions regarding dimensionality reduction --> There is no component with a HUGE impact, the strongest ones accounts for 6% of the variance\n",
    "- How many principal components / transformed features are you retaining for the next step of the analysis? I chose 100 to roughly cover more than 85 %, reducing the size of the components by roughly 50 %"
   ]
  },
  {
   "cell_type": "markdown",
   "metadata": {},
   "source": [
    "### Step 2.3: Interpret Principal Components\n",
    "\n",
    "Now that we have our transformed principal components, it's a nice idea to check out the weight of each variable on the first few components to see if they can be interpreted in some fashion.\n",
    "\n",
    "As a reminder, each principal component is a unit vector that points in the direction of highest variance (after accounting for the variance captured by earlier principal components). The further a weight is from zero, the more the principal component is in the direction of the corresponding feature. If two features have large weights of the same sign (both positive or both negative), then increases in one tend expect to be associated with increases in the other. To contrast, features with different signs can be expected to show a negative correlation: increases in one variable should result in a decrease in the other.\n",
    "\n",
    "- To investigate the features, you should map each weight to their corresponding feature name, then sort the features according to weight. The most interesting features for each principal component, then, will be those at the beginning and end of the sorted list. Use the data dictionary document to help you understand these most prominent features, their relationships, and what a positive or negative value on the principal component might indicate.\n",
    "- You should investigate and interpret feature associations from the first three principal components in this substep. To help facilitate this, you should write a function that you can call at any time to print the sorted list of feature weights, for the *i*-th principal component. This might come in handy in the next step of the project, when you interpret the tendencies of the discovered clusters."
   ]
  },
  {
   "cell_type": "code",
   "execution_count": 70,
   "metadata": {},
   "outputs": [],
   "source": [
    "def plotSingleDimension(full_dataset, pca, index):\n",
    "    # Dimension indexing\n",
    "    dimensions = ['Dimension {}'.format(i) for i in range(1,len(pca.components_)+1)]\n",
    "    \n",
    "    ## PCA components\n",
    "    components = pd.DataFrame(np.round(pca.components_, 4), columns = full_dataset.keys())\n",
    "    components.index = dimensions\n",
    "    \n",
    "    ## PCA explained variance\n",
    "    ratios = pca.explained_variance_ratio_.reshape(len(pca.components_), 1)\n",
    "    feature_weights = pca.components_\n",
    "    numerOfFeatures = np.shape(full_dataset)[1]\n",
    "    \n",
    "    variance_ratios = pd.DataFrame(np.round(ratios, 4), columns = ['Explained Variance'])\n",
    "    variance_ratios.index = dimensions\n",
    "    \n",
    "    #plt.bar(range(numerOfFeatures),feature_weights[index])\n",
    "    #plt.show()\n",
    "    \n",
    "    result = pd.concat([variance_ratios, components], axis = 1).iloc[index,:].sort_values(ascending=False)\n",
    "\n",
    "    return result"
   ]
  },
  {
   "cell_type": "code",
   "execution_count": 71,
   "metadata": {},
   "outputs": [
    {
     "data": {
      "text/plain": [
       "FINANZ_MINIMALIST               0.2264\n",
       "MOBI_REGIO                      0.1732\n",
       "KBA05_ANTG1                     0.1612\n",
       "KBA05_GBZ                       0.1594\n",
       "FINANZ_VORSORGER                0.1320\n",
       "KONSUMNAEHE                     0.1278\n",
       "LP_STATUS_GROB_4.0              0.1273\n",
       "LP_STATUS_FEIN_9.0              0.1234\n",
       "PLZ8_ANTG1                      0.1182\n",
       "INNENSTADT                      0.1162\n",
       "LP_STATUS_GROB_5.0              0.1159\n",
       "LP_STATUS_FEIN_10.0             0.1159\n",
       "ALTERSKATEGORIE_GROB            0.1096\n",
       "PLZ8_GBZ                        0.1082\n",
       "CAMEO_INTL_2015_LIFESTAGE       0.1035\n",
       "GREEN_AVANTGARDE                0.1001\n",
       "FINANZTYP_2.0                   0.0996\n",
       "NATIONALITAET_KZ_1.0            0.0982\n",
       "MIN_GEBAEUDEJAHR                0.0981\n",
       "GEBAEUDETYP_RASTER              0.0943\n",
       "GEBAEUDETYP_1.0                 0.0935\n",
       "ZABEOTYP_1.0                    0.0891\n",
       "BALLRAUM                        0.0876\n",
       "KBA05_ANTG2                     0.0837\n",
       "CAMEO_DEUG_2015_2.0             0.0829\n",
       "ANZ_PERSONEN                    0.0782\n",
       "SEMIO_ERL                       0.0779\n",
       "KBA05_ANTG4                     0.0731\n",
       "SEMIO_LUST                      0.0699\n",
       "CAMEO_DEUG_2015_3.0             0.0677\n",
       "                                 ...  \n",
       "NATIONALITAET_KZ_nan           -0.0687\n",
       "SEMIO_FAM                      -0.0746\n",
       "HEALTH_TYP                     -0.0747\n",
       "SEMIO_MAT                      -0.0748\n",
       "SEMIO_KULT                     -0.0766\n",
       "CAMEO_DEUG_2015_8.0            -0.0861\n",
       "LP_FAMILIE_GROB_1.0            -0.0881\n",
       "LP_FAMILIE_FEIN_1.0            -0.0881\n",
       "ARBEIT                         -0.0912\n",
       "RELAT_AB                       -0.0920\n",
       "FINANZ_UNAUFFAELLIGER          -0.0937\n",
       "ZABEOTYP_5.0                   -0.0993\n",
       "SEMIO_TRADV                    -0.1023\n",
       "LP_STATUS_FEIN_1.0             -0.1032\n",
       "ANZ_HAUSHALTE_AKTIV            -0.1083\n",
       "FINANZ_ANLEGER                 -0.1095\n",
       "SEMIO_RAT                      -0.1115\n",
       "CAMEO_DEUG_2015_9.0            -0.1119\n",
       "PRAEGENDE_JUGENDJAHRE_DECADE   -0.1215\n",
       "SEMIO_REL                      -0.1330\n",
       "EWDICHTE                       -0.1368\n",
       "SEMIO_PFLICHT                  -0.1375\n",
       "ORTSGR_KLS9                    -0.1403\n",
       "CAMEO_INTL_2015_WEALTH         -0.1467\n",
       "LP_STATUS_FEIN_2.0             -0.1525\n",
       "FINANZ_HAUSBAUER               -0.1552\n",
       "FINANZTYP_1.0                  -0.1554\n",
       "FINANZ_SPARER                  -0.1712\n",
       "HH_EINKOMMEN_SCORE             -0.1907\n",
       "LP_STATUS_GROB_1.0             -0.2003\n",
       "Name: Dimension 1, Length: 210, dtype: float64"
      ]
     },
     "execution_count": 71,
     "metadata": {},
     "output_type": "execute_result"
    }
   ],
   "source": [
    "# Map weights for the first principal component to corresponding feature names\n",
    "# and then print the linked values, sorted by weight.\n",
    "# HINT: Try defining a function here or in a new cell that you can reuse in the\n",
    "# other cells.\n",
    "#pca_results(df_scaled, pca)\n",
    "plotSingleDimension(df_scaled, pca, 0)"
   ]
  },
  {
   "cell_type": "code",
   "execution_count": 72,
   "metadata": {},
   "outputs": [
    {
     "data": {
      "text/plain": [
       "FINANZ_UNAUFFAELLIGER           0.2099\n",
       "FINANZ_SPARER                   0.1933\n",
       "SEMIO_REL                       0.1889\n",
       "SEMIO_TRADV                     0.1796\n",
       "SEMIO_PFLICHT                   0.1768\n",
       "FINANZ_ANLEGER                  0.1748\n",
       "PRAEGENDE_JUGENDJAHRE_DECADE    0.1680\n",
       "MOBI_REGIO                      0.1595\n",
       "KBA05_GBZ                       0.1589\n",
       "KBA05_ANTG1                     0.1566\n",
       "SEMIO_RAT                       0.1463\n",
       "SEMIO_KULT                      0.1419\n",
       "MIN_GEBAEUDEJAHR                0.1398\n",
       "ONLINE_AFFINITAET               0.1397\n",
       "KBA05_ANTG2                     0.1365\n",
       "KBA05_ANTG4                     0.1321\n",
       "SEMIO_MAT                       0.1288\n",
       "KBA05_ANTG3                     0.1285\n",
       "SEMIO_FAM                       0.1236\n",
       "PLZ8_ANTG1                      0.1220\n",
       "PLZ8_GBZ                        0.1198\n",
       "FINANZTYP_3.0                   0.1137\n",
       "FINANZTYP_1.0                   0.1058\n",
       "KKK                             0.0966\n",
       "PLZ8_HHZ                        0.0876\n",
       "ZABEOTYP_4.0                    0.0862\n",
       "LP_STATUS_FEIN_5.0              0.0792\n",
       "REGIOTYP                        0.0778\n",
       "LP_FAMILIE_GROB_4.0             0.0771\n",
       "FINANZTYP_4.0                   0.0750\n",
       "                                 ...  \n",
       "LP_STATUS_FEIN_3.0             -0.0514\n",
       "RELAT_AB                       -0.0518\n",
       "ARBEIT                         -0.0531\n",
       "SHOPPER_TYP_3.0                -0.0542\n",
       "CAMEO_INTL_2015_WEALTH         -0.0578\n",
       "GFK_URLAUBERTYP_4.0            -0.0590\n",
       "NATIONALITAET_KZ_1.0           -0.0594\n",
       "ANZ_HAUSHALTE_AKTIV            -0.0599\n",
       "SEMIO_KAEM                     -0.0599\n",
       "SEMIO_KRIT                     -0.0602\n",
       "WOHNDAUER_2008                 -0.0609\n",
       "CJT_GESAMTTYP_1.0              -0.0612\n",
       "LP_FAMILIE_GROB_1.0            -0.0620\n",
       "LP_FAMILIE_FEIN_1.0            -0.0620\n",
       "W_KEIT_KIND_HH                 -0.0646\n",
       "FINANZTYP_2.0                  -0.0711\n",
       "EWDICHTE                       -0.0732\n",
       "ORTSGR_KLS9                    -0.0734\n",
       "HH_EINKOMMEN_SCORE             -0.0745\n",
       "FINANZTYP_6.0                  -0.0771\n",
       "FINANZTYP_5.0                  -0.0879\n",
       "CJT_GESAMTTYP_2.0              -0.0999\n",
       "LP_STATUS_FEIN_1.0             -0.1042\n",
       "RETOURTYP_BK_S                 -0.1146\n",
       "FINANZ_HAUSBAUER               -0.1186\n",
       "SEMIO_LUST                     -0.1504\n",
       "SEMIO_ERL                      -0.1605\n",
       "ALTERSKATEGORIE_GROB           -0.1697\n",
       "ZABEOTYP_3.0                   -0.1805\n",
       "FINANZ_VORSORGER               -0.1908\n",
       "Name: Dimension 2, Length: 210, dtype: float64"
      ]
     },
     "execution_count": 72,
     "metadata": {},
     "output_type": "execute_result"
    }
   ],
   "source": [
    "# Map weights for the second principal component to corresponding feature names\n",
    "# and then print the linked values, sorted by weight.\n",
    "plotSingleDimension(df_scaled, pca, 1)"
   ]
  },
  {
   "cell_type": "code",
   "execution_count": 73,
   "metadata": {},
   "outputs": [
    {
     "data": {
      "text/plain": [
       "PLZ8_ANTG3                0.2240\n",
       "PLZ8_ANTG4                0.2235\n",
       "PLZ8_ANTG2                0.2162\n",
       "KBA05_ANTG3               0.2138\n",
       "KBA05_ANTG4               0.2135\n",
       "PLZ8_HHZ                  0.2041\n",
       "SEMIO_KRIT                0.1983\n",
       "SEMIO_KAEM                0.1982\n",
       "KBA05_ANTG2               0.1978\n",
       "ANREDE_KZ                 0.1935\n",
       "MIN_GEBAEUDEJAHR          0.1724\n",
       "PLZ8_GBZ                  0.1627\n",
       "SEMIO_ERL                 0.1621\n",
       "PLZ8_ANTG1                0.1568\n",
       "SEMIO_DOM                 0.1494\n",
       "KBA05_ANTG1               0.1466\n",
       "KBA05_GBZ                 0.1444\n",
       "MOBI_REGIO                0.1341\n",
       "REGIOTYP                  0.0998\n",
       "ZABEOTYP_3.0              0.0988\n",
       "KKK                       0.0972\n",
       "CAMEO_INTL_2015_WEALTH    0.0845\n",
       "LP_FAMILIE_FEIN_1.0       0.0755\n",
       "LP_FAMILIE_GROB_1.0       0.0755\n",
       "LP_STATUS_GROB_1.0        0.0709\n",
       "VERS_TYP_nan              0.0649\n",
       "SHOPPER_TYP_nan           0.0649\n",
       "FINANZ_HAUSBAUER          0.0648\n",
       "NATIONALITAET_KZ_nan      0.0631\n",
       "SHOPPER_TYP_3.0           0.0626\n",
       "                           ...  \n",
       "CAMEO_DEU_2015_2D        -0.0270\n",
       "LP_STATUS_GROB_3.0       -0.0277\n",
       "GEBAEUDETYP_RASTER       -0.0278\n",
       "CAMEO_DEUG_2015_1.0      -0.0295\n",
       "CAMEO_DEUG_2015_4.0      -0.0318\n",
       "BALLRAUM                 -0.0334\n",
       "SEMIO_PFLICHT            -0.0421\n",
       "CAMEO_DEUG_2015_2.0      -0.0424\n",
       "INNENSTADT               -0.0431\n",
       "KONSUMNAEHE              -0.0468\n",
       "FINANZTYP_4.0            -0.0471\n",
       "SEMIO_MAT                -0.0497\n",
       "LP_FAMILIE_FEIN_11.0     -0.0551\n",
       "WOHNDAUER_2008           -0.0566\n",
       "LP_FAMILIE_FEIN_10.0     -0.0584\n",
       "ONLINE_AFFINITAET        -0.0617\n",
       "SEMIO_TRADV              -0.0626\n",
       "LP_STATUS_FEIN_10.0      -0.0654\n",
       "LP_STATUS_GROB_5.0       -0.0654\n",
       "GREEN_AVANTGARDE         -0.0770\n",
       "FINANZ_MINIMALIST        -0.0815\n",
       "LP_FAMILIE_GROB_5.0      -0.0850\n",
       "ANZ_PERSONEN             -0.0949\n",
       "SEMIO_REL                -0.1104\n",
       "ZABEOTYP_1.0             -0.1188\n",
       "SHOPPER_TYP_0.0          -0.1216\n",
       "SEMIO_FAM                -0.1585\n",
       "SEMIO_VERT               -0.1675\n",
       "SEMIO_SOZ                -0.1695\n",
       "SEMIO_KULT               -0.1919\n",
       "Name: Dimension 3, Length: 210, dtype: float64"
      ]
     },
     "execution_count": 73,
     "metadata": {},
     "output_type": "execute_result"
    }
   ],
   "source": [
    "# Map weights for the third principal component to corresponding feature names\n",
    "# and then print the linked values, sorted by weight.\n",
    "plotSingleDimension(df_scaled, pca, 2)"
   ]
  },
  {
   "cell_type": "markdown",
   "metadata": {},
   "source": [
    "### Discussion 2.3: Interpret Principal Components\n",
    "\n",
    "- Reporting your observations from detailed investigation of the first few principal components generated -->\n",
    "0:\n",
    "FINANZ_MINIMALIST               0.2264 | low financial interest\n",
    "MOBI_REGIO                      0.1732 | Movement patterns\n",
    "KBA05_ANTG1                     0.1612 | Number of 1-2 family houses in the microcell\n",
    "FINANZ_SPARER                  -0.1712 | money-saver\n",
    "HH_EINKOMMEN_SCORE             -0.1907 | Estimated household net income\n",
    "LP_STATUS_GROB_1.0             -0.2003 | low-income earners\n",
    "\n",
    "1:\n",
    "FINANZ_UNAUFFAELLIGER           0.2099 | inconspicuous\n",
    "FINANZ_SPARER                   0.1933 | money-saver\n",
    "SEMIO_REL                       0.1889 | religious\n",
    "ALTERSKATEGORIE_GROB           -0.1697 | Estimated age based on given name analysis\n",
    "ZABEOTYP_3.0                   -0.1805 | Energy consumption typology: fair supplied\n",
    "FINANZ_VORSORGER               -0.1908 | be prepared\n",
    "\n",
    "2:\n",
    "PLZ8_ANTG3                0.2240 | Number of 6-10 family houses in the PLZ8 region\n",
    "PLZ8_ANTG4                0.2235 | Number of 10+ family houses in the PLZ8 region\n",
    "PLZ8_ANTG2                0.2162 | Number of 3-5 family houses in the PLZ8 region\n",
    "SEMIO_VERT               -0.1675 | dreamful\n",
    "SEMIO_SOZ                -0.1695 | socially-minded\n",
    "SEMIO_KULT               -0.1919 | cultural-minded\n",
    "- Can we interpret positive and negative values from them in a meaningful way? --> We can see the fincial values seem to be of a high importance, followed by personality typologies"
   ]
  },
  {
   "cell_type": "markdown",
   "metadata": {},
   "source": [
    "## Step 3: Clustering\n",
    "\n",
    "### Step 3.1: Apply Clustering to General Population\n",
    "\n",
    "You've assessed and cleaned the demographics data, then scaled and transformed them. Now, it's time to see how the data clusters in the principal components space. In this substep, you will apply k-means clustering to the dataset and use the average within-cluster distances from each point to their assigned cluster's centroid to decide on a number of clusters to keep.\n",
    "\n",
    "- Use sklearn's [KMeans](http://scikit-learn.org/stable/modules/generated/sklearn.cluster.KMeans.html#sklearn.cluster.KMeans) class to perform k-means clustering on the PCA-transformed data.\n",
    "- Then, compute the average difference from each point to its assigned cluster's center. **Hint**: The KMeans object's `.score()` method might be useful here, but note that in sklearn, scores tend to be defined so that larger is better. Try applying it to a small, toy dataset, or use an internet search to help your understanding.\n",
    "- Perform the above two steps for a number of different cluster counts. You can then see how the average distance decreases with an increasing number of clusters. However, each additional cluster provides a smaller net benefit. Use this fact to select a final number of clusters in which to group the data. **Warning**: because of the large size of the dataset, it can take a long time for the algorithm to resolve. The more clusters to fit, the longer the algorithm will take. You should test for cluster counts through at least 10 clusters to get the full picture, but you shouldn't need to test for a number of clusters above about 30.\n",
    "- Once you've selected a final number of clusters to use, re-fit a KMeans instance to perform the clustering operation. Make sure that you also obtain the cluster assignments for the general demographics data, since you'll be using them in the final Step 3.3."
   ]
  },
  {
   "cell_type": "code",
   "execution_count": null,
   "metadata": {},
   "outputs": [],
   "source": [
    "#https://medium.com/@dmitriy.kavyazin/principal-component-analysis-and-k-means-clustering-to-visualize-a-high-dimensional-dataset-577b2a7a5fe2"
   ]
  },
  {
   "cell_type": "code",
   "execution_count": 12,
   "metadata": {},
   "outputs": [
    {
     "name": "stdout",
     "output_type": "stream",
     "text": [
      "Iteration 1\n",
      "Iteration 2\n",
      "Iteration 3\n",
      "Iteration 4\n",
      "Iteration 5\n",
      "Iteration 6\n",
      "Iteration 7\n",
      "Iteration 8\n",
      "Iteration 9\n",
      "Iteration 10\n"
     ]
    },
    {
     "data": {
      "image/png": "[encoded data removed]",
      "text/plain": [
       "<matplotlib.figure.Figure at 0x7f6c575b91d0>"
      ]
     },
     "metadata": {
      "needs_background": "light"
     },
     "output_type": "display_data"
    }
   ],
   "source": [
    "# Over a number of different cluster counts...\n",
    "PCA_components = pd.DataFrame(principalComponents)\n",
    "\n",
    "ks = range(1, 11)\n",
    "inertias = []\n",
    "scores = []\n",
    "silhouettes = []\n",
    "\n",
    "numberOfSamples = np.shape(principalComponents)[1]\n",
    "\n",
    "for k in ks:\n",
    "    print(\"Iteration\",k)\n",
    "    # Create a KMeans instance with k clusters: model\n",
    "    model = KMeans(n_clusters=k)\n",
    "    \n",
    "    # Fit model to samples\n",
    "    fit = model.fit(PCA_components)\n",
    "    predictions = fit.predict(PCA_components)\n",
    "    \n",
    "    #https://stackoverflow.com/questions/51382250/valueerror-number-of-labels-is-1-valid-values-are-2-to-n-samples-1-inclusiv\n",
    "    #Silhouette score leads to memory error (https://stackoverflow.com/questions/16424724/how-can-i-fix-a-memoryerror-when-executing-scikit-learns-silhouette-score)\n",
    "    #if (k>1):\n",
    "    #    silhouette_avg = silhouette_score(PCA_components, predictions)\n",
    "    #    silhouettes.append(silhouette_avg)\n",
    "\n",
    "    # Append the inertia to the list of inertias\n",
    "    inertias.append(model.inertia_)\n",
    "    scores.append(model.score(PCA_components)/numberOfSamples)\n",
    "    \n",
    "plt.plot(ks, inertias, '-o', color='black')\n",
    "plt.xlabel('number of clusters, k')\n",
    "plt.ylabel('inertia')\n",
    "plt.xticks(ks)\n",
    "plt.show()\n",
    "    "
   ]
  },
  {
   "cell_type": "code",
   "execution_count": 13,
   "metadata": {},
   "outputs": [
    {
     "data": {
      "image/png": "[encoded data removed]",
      "text/plain": [
       "<matplotlib.figure.Figure at 0x7f6c5754ba90>"
      ]
     },
     "metadata": {
      "needs_background": "light"
     },
     "output_type": "display_data"
    }
   ],
   "source": [
    "#Score returns \"Sum of distances of samples to their closest cluster center.\"\n",
    "#Wanted: average within-cluster distances\n",
    "\n",
    "plt.plot(ks, scores, '-o', color='black')\n",
    "plt.xlabel('number of clusters, k')\n",
    "plt.ylabel('score')\n",
    "plt.xticks(ks)\n",
    "plt.show()"
   ]
  },
  {
   "cell_type": "code",
   "execution_count": null,
   "metadata": {},
   "outputs": [],
   "source": [
    "# Investigate the change in within-cluster distance across number of clusters.\n",
    "# HINT: Use matplotlib's plot function to visualize this relationship.\n"
   ]
  },
  {
   "cell_type": "code",
   "execution_count": 52,
   "metadata": {},
   "outputs": [],
   "source": [
    "# Re-fit the k-means model with the selected number of clusters and obtain\n",
    "# cluster predictions for the general population demographics data.\n",
    "\n",
    "#5 seems to be the ell-bow point\n",
    "PCA_components = pd.DataFrame(principalComponents)\n",
    "k = 5\n",
    "kmeans_model = KMeans(n_clusters=k) \n",
    "kmeans_fit = model.fit(PCA_components)\n",
    "kmeans_predictions = kmeans_fit.predict(PCA_components)\n"
   ]
  },
  {
   "cell_type": "markdown",
   "metadata": {},
   "source": [
    "### Discussion 3.1: Apply Clustering to General Population\n",
    "\n",
    "- Reporting your findings and decisions regarding clustering\n",
    "- Into how many clusters have you decided to segment the population? --> It seems to be a hard one here to decide since there's no \"true\" ellbow point. I chose the first time the slope decreased, setting k to 5"
   ]
  },
  {
   "cell_type": "markdown",
   "metadata": {},
   "source": [
    "### Step 3.2: Apply All Steps to the Customer Data\n",
    "\n",
    "Now that you have clusters and cluster centers for the general population, it's time to see how the customer data maps on to those clusters. Take care to not confuse this for re-fitting all of the models to the customer data. Instead, you're going to use the fits from the general population to clean, transform, and cluster the customer data. In the last step of the project, you will interpret how the general population fits apply to the customer data.\n",
    "\n",
    "- Don't forget when loading in the customers data, that it is semicolon (`;`) delimited.\n",
    "- Apply the same feature wrangling, selection, and engineering steps to the customer demographics using the `clean_data()` function you created earlier. (You can assume that the customer demographics data has similar meaning behind missing data patterns as the general demographics data.)\n",
    "- Use the sklearn objects from the general demographics data, and apply their transformations to the customers data. That is, you should not be using a `.fit()` or `.fit_transform()` method to re-fit the old objects, nor should you be creating new sklearn objects! Carry the data through the feature scaling, PCA, and clustering steps, obtaining cluster assignments for all of the data in the customer demographics data."
   ]
  },
  {
   "cell_type": "code",
   "execution_count": 12,
   "metadata": {},
   "outputs": [],
   "source": [
    "def clean_data(df, below):\n",
    "    numberOfCategories = np.shape(df)[1]\n",
    "    numberOfPersons = np.shape(df)[0]\n",
    "    \n",
    "    df_np = df.values\n",
    "    df_t = np.transpose(df_np)\n",
    "    \n",
    "    for i, column in enumerate(df_t):   #column = category\n",
    "        key_missing_or_unknown = feat_info.iloc[i][3]\n",
    "        key_list, hasX = parseKeyString(key_missing_or_unknown)\n",
    "\n",
    "        for j, row in enumerate(column):\n",
    "            value = df_t[i][j]\n",
    "            if (hasX == True):\n",
    "                string_value = str(value)\n",
    "                if (any(key == string_value for key in key_list)):\n",
    "                    df_t[i][j] = np.nan\n",
    "            else:\n",
    "                if (key_missing_or_unknown != \"[]\" and any(key == value for key in key_list)):\n",
    "                    df_t[i][j] = np.nan\n",
    "                elif (key_missing_or_unknown == \"[]\" and value == key_missing_or_unknown):\n",
    "                    df_t[i][j] = np.nan\n",
    "                    \n",
    "    df = pd.DataFrame(np.transpose(df_t), columns=df.columns)\n",
    "    print(\"1 Inserting NaN Done\",np.shape(df))\n",
    "    \n",
    "    # remove selected columns and rows, ...\n",
    "    droppingColumns = [0, 11, 40, 43, 64, 47]\n",
    "    df.drop(df.columns[droppingColumns], axis=1, inplace=True)\n",
    "    print(\"2 Dropping Columns Done\",np.shape(df))\n",
    "\n",
    "    threshold = 30\n",
    "    if (below == True):\n",
    "        df = df[df.isnull().sum(axis=1) <= threshold]\n",
    "    else:\n",
    "        df = df[df.isnull().sum(axis=1) > threshold]\n",
    "    print(\"3 Dropping Rows Done\",np.shape(df))\n",
    "    \n",
    "    # select, re-encode, and engineer column values.\n",
    "    df = add_dummy_column(df, 'OST_WEST_KZ')\n",
    "\n",
    "    #For multi-level categoricals encode the values using multiple dummy variables (e.g. via OneHotEncoder\n",
    "    df = add_dummy_column(df, 'CJT_GESAMTTYP')\n",
    "    df = add_dummy_column(df, 'FINANZTYP')\n",
    "    df = add_dummy_column(df, 'GFK_URLAUBERTYP')\n",
    "    df = add_dummy_column(df, 'LP_FAMILIE_FEIN')\n",
    "    df = add_dummy_column(df, 'LP_FAMILIE_GROB')\n",
    "    df = add_dummy_column(df, 'LP_STATUS_FEIN')\n",
    "    df = add_dummy_column(df, 'LP_STATUS_GROB')\n",
    "    df = add_dummy_column(df, 'NATIONALITAET_KZ')\n",
    "    df = add_dummy_column(df, 'SHOPPER_TYP')\n",
    "    df = add_dummy_column(df, 'VERS_TYP')\n",
    "    df = add_dummy_column(df, 'ZABEOTYP')\n",
    "    df = add_dummy_column(df, 'GEBAEUDETYP')\n",
    "    df = add_dummy_column(df, 'CAMEO_DEUG_2015')\n",
    "    df = add_dummy_column(df, 'CAMEO_DEU_2015')\n",
    "    \n",
    "    print(\"4 OneHotEncoding Done\",np.shape(df))\n",
    "    \n",
    "    PRAEGENDE_JUGENDJAHRE_DECADE = np.empty(np.shape(df)[0])\n",
    "    PRAEGENDE_JUGENDJAHRE_DECADE[:] = np.NaN\n",
    "\n",
    "    PRAEGENDE_JUGENDJAHRE_MOVEMENT = np.empty(np.shape(df)[0])\n",
    "    PRAEGENDE_JUGENDJAHRE_MOVEMENT[:] = np.NaN\n",
    "\n",
    "    decade40s = [1,2]\n",
    "    decade50s = [3,4]\n",
    "    decade60s = [5,6,7]\n",
    "    decade70s = [8,9]\n",
    "    decade80s = [10,11,12,13]\n",
    "    decade90s = [14,15]\n",
    "\n",
    "    movement_mainstream = [1,3,5,8,10,12,14]\n",
    "    movement_avantgarde = [2,4,6,7,9,11,13,15]\n",
    "\n",
    "    for i, entry in enumerate(df['PRAEGENDE_JUGENDJAHRE']):\n",
    "        if (pd.isna(entry) == False):\n",
    "            value = int(entry)\n",
    "            if (any(key == value for key in decade40s)):\n",
    "                PRAEGENDE_JUGENDJAHRE_DECADE[i] = 4\n",
    "            elif (any(key == value for key in decade50s)):\n",
    "                PRAEGENDE_JUGENDJAHRE_DECADE[i] = 5\n",
    "            elif (any(key == value for key in decade60s)):\n",
    "                PRAEGENDE_JUGENDJAHRE_DECADE[i] = 6\n",
    "            elif (any(key == value for key in decade70s)):\n",
    "                PRAEGENDE_JUGENDJAHRE_DECADE[i] = 7\n",
    "            elif (any(key == value for key in decade80s)):\n",
    "                PRAEGENDE_JUGENDJAHRE_DECADE[i] = 8\n",
    "            elif (any(key == value for key in decade90s)):\n",
    "                PRAEGENDE_JUGENDJAHRE_DECADE[i] = 9\n",
    "\n",
    "            if (any(key == value for key in movement_mainstream)):\n",
    "                PRAEGENDE_JUGENDJAHRE_MOVEMENT[i] = 0\n",
    "            elif (any(key == value for key in movement_avantgarde)):\n",
    "                PRAEGENDE_JUGENDJAHRE_MOVEMENT[i] = 1\n",
    "\n",
    "    df['PRAEGENDE_JUGENDJAHRE_DECADE'] = PRAEGENDE_JUGENDJAHRE_DECADE\n",
    "    df['PRAEGENDE_JUGENDJAHRE_MOVEMENT'] = PRAEGENDE_JUGENDJAHRE_MOVEMENT\n",
    "    df.drop('PRAEGENDE_JUGENDJAHRE', axis=1, inplace=True)\n",
    "    \n",
    "    CAMEO_INTL_2015_WEALTH = np.empty(np.shape(df)[0])\n",
    "    CAMEO_INTL_2015_WEALTH[:] = np.NaN\n",
    "    CAMEO_INTL_2015_LIFESTAGE = np.empty(np.shape(df)[0])\n",
    "    CAMEO_INTL_2015_LIFESTAGE[:] = np.NaN\n",
    "\n",
    "    for i, entry in enumerate(df['CAMEO_INTL_2015']):\n",
    "        if (pd.isna(entry) == False):\n",
    "            value = int(entry)\n",
    "            digits = (int)(math.log10(value)) \n",
    "            first = (int)(value / pow(10, digits)) \n",
    "            last = (value % 10) \n",
    "            CAMEO_INTL_2015_WEALTH[i] = first\n",
    "            CAMEO_INTL_2015_LIFESTAGE[i] = last\n",
    "\n",
    "    df['CAMEO_INTL_2015_WEALTH'] = CAMEO_INTL_2015_WEALTH\n",
    "    df['CAMEO_INTL_2015_LIFESTAGE'] = CAMEO_INTL_2015_LIFESTAGE\n",
    "    df.drop('CAMEO_INTL_2015', axis=1, inplace=True)\n",
    "    \n",
    "    #handling of further mixed values\n",
    "    df.drop('LP_LEBENSPHASE_FEIN', axis=1, inplace=True)\n",
    "    df.drop('LP_LEBENSPHASE_GROB', axis=1, inplace=True)\n",
    "    df.drop('WOHNLAGE', axis=1, inplace=True)\n",
    "    df.drop('PLZ8_BAUMAX', axis=1, inplace=True)\n",
    "    \n",
    "    print(\"5 Feature Engineering Done\",np.shape(df))\n",
    "    # Return the cleaned dataframe.\n",
    "    return df\n",
    "\n",
    "def parseKeyString(key_missing_or_unknown):\n",
    "    hasX = 'X' in key_missing_or_unknown\n",
    "    key_list = []\n",
    "    if (key_missing_or_unknown != \"[]\"):\n",
    "        key_list = key_missing_or_unknown.replace('[','')\n",
    "        key_list = key_list.replace(']','')\n",
    "        key_list = list(key_list.split(\",\"))\n",
    "        if (hasX == False):\n",
    "            key_list = list(map(int, key_list))\n",
    "    return key_list, hasX"
   ]
  },
  {
   "cell_type": "code",
   "execution_count": 14,
   "metadata": {},
   "outputs": [
    {
     "name": "stdout",
     "output_type": "stream",
     "text": [
      "(891221, 85)\n",
      "(191652, 85)\n"
     ]
    }
   ],
   "source": [
    "# Load in the customer demographics data.\n",
    "customers = pd.read_csv('Udacity_CUSTOMERS_Subset.csv',sep=\";\")\n",
    "azdias = pd.read_csv('Udacity_AZDIAS_Subset.csv',sep=\";\")\n",
    "feat_info = pd.read_csv('AZDIAS_Feature_Summary.csv',sep=\";\")\n",
    "print(np.shape(azdias))\n",
    "print(np.shape(customers))"
   ]
  },
  {
   "cell_type": "code",
   "execution_count": 15,
   "metadata": {},
   "outputs": [
    {
     "name": "stdout",
     "output_type": "stream",
     "text": [
      "+++Cleaning AZDIAS+++\n",
      "1 Inserting NaN Done (891221, 85)\n",
      "2 Dropping Columns Done (891221, 79)\n",
      "3 Dropping Rows Done (798067, 79)\n",
      "4 OneHotEncoding Done (798067, 211)\n",
      "5 Feature Engineering Done (798067, 209)\n",
      "6 Cleaning done!\n",
      "+++Getting AZDIAS Below Threshold+++\n",
      "1 Inserting NaN Done (891221, 85)\n",
      "2 Dropping Columns Done (891221, 79)\n",
      "3 Dropping Rows Done (93154, 79)\n",
      "4 OneHotEncoding Done (93154, 161)\n",
      "5 Feature Engineering Done (93154, 159)\n",
      "6 Cleaning done!\n",
      "+++Cleaning CUSTOMERS+++\n",
      "1 Inserting NaN Done (191652, 85)\n",
      "2 Dropping Columns Done (191652, 79)\n",
      "3 Dropping Rows Done (141725, 79)\n",
      "4 OneHotEncoding Done (141725, 210)\n",
      "5 Feature Engineering Done (141725, 208)\n",
      "6 Cleaning done!\n",
      "+++Getting CUSTOMERS Below Threshold+++\n",
      "1 Inserting NaN Done (191652, 85)\n",
      "2 Dropping Columns Done (191652, 79)\n",
      "3 Dropping Rows Done (49927, 79)\n",
      "4 OneHotEncoding Done (49927, 149)\n",
      "5 Feature Engineering Done (49927, 147)\n",
      "6 Cleaning done!\n",
      "(798067, 208)\n",
      "(141725, 208)\n",
      "BELOW Datasets have same amount of columns\n",
      "(93154, 159)\n",
      "(49927, 147)\n"
     ]
    }
   ],
   "source": [
    "# Apply preprocessing, feature transformation, and clustering from the general\n",
    "# demographics onto the customer data, obtaining cluster predictions for the\n",
    "# customer demographics data.\n",
    "print(\"+++Cleaning AZDIAS+++\")\n",
    "cleaned_germany_data = clean_data(azdias, True)\n",
    "print(\"6 Cleaning done!\")\n",
    "\n",
    "print(\"+++Getting AZDIAS Above Threshold+++\")\n",
    "cleaned_germany_data_above_threshold = clean_data(azdias, False)\n",
    "print(\"6 Cleaning done!\")\n",
    "\n",
    "print(\"+++Cleaning CUSTOMERS+++\")\n",
    "cleaned_customer_data = clean_data(customers, True)\n",
    "print(\"6 Cleaning done!\")\n",
    "\n",
    "print(\"+++Getting CUSTOMERS Anove Threshold+++\")\n",
    "cleaned_customer_data_above_threshold = clean_data(customers, False)\n",
    "print(\"6 Cleaning done!\")\n",
    "\n",
    "#ALIGNING data\n",
    "cleaned_germany_data = cleaned_germany_data[cleaned_customer_data.columns]\n",
    "cleaned_germany_data_above_threshold = cleaned_germany_data_above_threshold[cleaned_customer_data_above_threshold.columns]\n",
    "\n",
    "print(np.shape(cleaned_germany_data))\n",
    "print(np.shape(cleaned_customer_data))\n",
    "print(\"BELOW Datasets have same amount of columns\")\n",
    "print(np.shape(cleaned_germany_data_above_threshold))\n",
    "print(np.shape(cleaned_customer_data_above_threshold))\n",
    "print(\"ABOVE Datasets have same amount of columns\")"
   ]
  },
  {
   "cell_type": "code",
   "execution_count": 17,
   "metadata": {},
   "outputs": [
    {
     "name": "stdout",
     "output_type": "stream",
     "text": [
      "Data saved\n"
     ]
    }
   ],
   "source": [
    "dateTimeObj = datetime.now()\n",
    "timestampStr = dateTimeObj.strftime(\"%Y_%m_%d_%H_%M_%S\")\n",
    "\n",
    "cleaned_germany_data.to_csv(timestampStr + '_3.2_final_data_germany.csv')\n",
    "cleaned_germany_data_above_threshold.to_csv(timestampStr + '_3.2_final_data_germany_above_threshold.csv')\n",
    "cleaned_customer_data.to_csv(timestampStr + '_3.2_final_data_customer.csv')\n",
    "cleaned_customer_data_above_threshold.to_csv(timestampStr + '_3.2_final_data_customer_above_threshold.csv')\n",
    "print(\"Data saved\")"
   ]
  },
  {
   "cell_type": "code",
   "execution_count": 5,
   "metadata": {},
   "outputs": [
    {
     "name": "stdout",
     "output_type": "stream",
     "text": [
      "Data loaded\n"
     ]
    }
   ],
   "source": [
    "cleaned_germany_data = pd.read_csv('2020_06_21_11_30_13_3.2_final_data_germany.csv', index_col=[0])\n",
    "cleaned_germany_data_above_threshold = pd.read_csv('2020_06_21_11_30_13_3.2_final_data_germany_above_threshold.csv', index_col=[0])\n",
    "cleaned_customer_data = pd.read_csv('2020_06_21_11_30_13_3.2_final_data_customer.csv', index_col=[0])\n",
    "cleaned_customer_data_above_threshold = pd.read_csv('2020_06_21_11_30_13_3.2_final_data_customer_above_threshold.csv', index_col=[0])\n",
    "feat_info = pd.read_csv('AZDIAS_Feature_Summary.csv',sep=\";\")\n",
    "print(\"Data loaded\")"
   ]
  },
  {
   "cell_type": "code",
   "execution_count": 7,
   "metadata": {},
   "outputs": [],
   "source": [
    "#Redo fitting etc. for identical datasets now\n",
    "def impute_scale_pca_kmeans_TRAININGSET(df):\n",
    "    fill_NaN = Imputer(missing_values=np.nan, strategy='mean', axis=1)\n",
    "    imputer_fit = fill_NaN.fit(df)\n",
    "    imputer_transform = imputer_fit.transform(df)\n",
    "    imputed_DF = pd.DataFrame(imputer_transform)\n",
    "    imputed_DF.columns = df.columns\n",
    "    imputed_DF.index = df.index\n",
    "    print(\"1 Imputer done\")\n",
    "\n",
    "    ss_model = StandardScaler()\n",
    "    scaler_fit = ss_model.fit(imputed_DF)\n",
    "    scaler_transform = scaler_fit.transform(imputed_DF)\n",
    "    df_scaled = pd.DataFrame(scaler_transform,columns = imputed_DF.columns)\n",
    "    print(\"2 Scaling done\")\n",
    "\n",
    "    n_components = 100\n",
    "    pca_model = PCA(n_components)\n",
    "    pca_fit = pca_model.fit(df_scaled)\n",
    "    principalComponents = pca_fit.transform(df_scaled)\n",
    "    print(\"3 PCA done\")\n",
    "\n",
    "    PCA_components = pd.DataFrame(principalComponents)\n",
    "    k = 5\n",
    "    kmeans_model = KMeans(n_clusters=k) \n",
    "    kmeans_fit = kmeans_model.fit(PCA_components)\n",
    "    kmeans_predictions = kmeans_fit.predict(PCA_components)\n",
    "    print(\"4 K-Means done\")\n",
    "    \n",
    "    return kmeans_predictions, principalComponents, imputer_fit, scaler_fit, pca_fit, kmeans_fit\n",
    "\n",
    "def impute_scale_pca_kmeans_TESTSET(df, imputer_fit, scaler_fit, pca_fit, kmeans_fit):\n",
    "    \n",
    "    imputer_transform = imputer_fit.transform(df)\n",
    "    imputed_DF = pd.DataFrame(imputer_transform)\n",
    "    imputed_DF.columns = df.columns\n",
    "    imputed_DF.index = df.index\n",
    "    print(\"1 Imputer done\")\n",
    "\n",
    "    scaler_transform = scaler_fit.transform(imputed_DF)\n",
    "    df_scaled = pd.DataFrame(scaler_transform,columns = imputed_DF.columns)\n",
    "    print(\"2 Scaling done\")\n",
    "\n",
    "    principalComponents = pca_fit.transform(df_scaled)\n",
    "    PCA_components = pd.DataFrame(principalComponents)\n",
    "    print(\"3 PCA done\")\n",
    "\n",
    "    kmeans_predictions = kmeans_fit.predict(PCA_components)\n",
    "    print(\"4 K-Means done\")\n",
    "    \n",
    "    return kmeans_predictions, principalComponents"
   ]
  },
  {
   "cell_type": "code",
   "execution_count": 21,
   "metadata": {},
   "outputs": [
    {
     "name": "stdout",
     "output_type": "stream",
     "text": [
      "1 Imputer done\n",
      "2 Scaling done\n",
      "3 PCA done\n",
      "4 K-Means done\n",
      "1 Imputer done\n",
      "2 Scaling done\n",
      "3 PCA done\n",
      "4 K-Means done\n",
      "(798067,)\n",
      "(141725,)\n"
     ]
    }
   ],
   "source": [
    "kmeans_predictions_germany, principalComponents_germany, imputer_fit, scaler_fit, pca_fit, kmeans_fit = impute_scale_pca_kmeans_TRAININGSET(cleaned_germany_data)\n",
    "kmeans_predictions_customer, principalComponents_customer = impute_scale_pca_kmeans_TESTSET(cleaned_customer_data, imputer_fit, scaler_fit, pca_fit, kmeans_fit)\n",
    "\n",
    "print(np.shape(kmeans_predictions_germany))\n",
    "print(np.shape(kmeans_predictions_customer))\n"
   ]
  },
  {
   "cell_type": "code",
   "execution_count": 22,
   "metadata": {},
   "outputs": [],
   "source": [
    "cleaned_germany_data_above_threshold = cleaned_germany_data_below_threshold\n",
    "cleaned_customer_data_above_threshold = cleaned_customer_data_below_threshold"
   ]
  },
  {
   "cell_type": "code",
   "execution_count": 24,
   "metadata": {},
   "outputs": [
    {
     "name": "stdout",
     "output_type": "stream",
     "text": [
      "1 Imputer done\n",
      "2 Scaling done\n",
      "3 PCA done\n",
      "4 K-Means done\n",
      "1 Imputer done\n",
      "2 Scaling done\n",
      "3 PCA done\n",
      "4 K-Means done\n",
      "(93154,)\n",
      "(49927,)\n"
     ]
    }
   ],
   "source": [
    "kmeans_predictions_germany_above, principalComponents_germany_above, imputer_fit_above, scaler_fit_above, pca_fit_above, kmeans_fit_above = impute_scale_pca_kmeans_TRAININGSET(cleaned_germany_data_above_threshold)\n",
    "kmeans_predictions_customer_above, principalComponents_customer_above = impute_scale_pca_kmeans_TESTSET(cleaned_customer_data_above_threshold, imputer_fit_above, scaler_fit_above, pca_fit_above, kmeans_fit_above)\n",
    "\n",
    "print(np.shape(kmeans_predictions_germany_above))\n",
    "print(np.shape(kmeans_predictions_customer_above))"
   ]
  },
  {
   "cell_type": "code",
   "execution_count": 26,
   "metadata": {},
   "outputs": [],
   "source": [
    "#https://machinelearningmastery.com/save-load-machine-learning-models-python-scikit-learn/\n",
    "dateTimeObj = datetime.now()\n",
    "timestampStr = dateTimeObj.strftime(\"%Y_%m_%d_%H_%M_%S\")\n",
    "\n",
    "np.savetxt(timestampStr + '_3.2_kmeans_predictions_germany.csv', kmeans_predictions_germany, delimiter=\",\")\n",
    "np.savetxt(timestampStr + '_3.2_kmeans_predictions_customer.csv', kmeans_predictions_customer, delimiter=\",\")\n",
    "np.savetxt(timestampStr + '_3.2_kmeans_predictions_germany_above.csv', kmeans_predictions_germany_above, delimiter=\",\")\n",
    "np.savetxt(timestampStr + '_3.2_kmeans_predictions_customer_above.csv', kmeans_predictions_customer_above, delimiter=\",\")"
   ]
  },
  {
   "cell_type": "markdown",
   "metadata": {},
   "source": [
    "### Step 3.3: Compare Customer Data to Demographics Data\n",
    "\n",
    "At this point, you have clustered data based on demographics of the general population of Germany, and seen how the customer data for a mail-order sales company maps onto those demographic clusters. In this final substep, you will compare the two cluster distributions to see where the strongest customer base for the company is.\n",
    "\n",
    "Consider the proportion of persons in each cluster for the general population, and the proportions for the customers. If we think the company's customer base to be universal, then the cluster assignment proportions should be fairly similar between the two. If there are only particular segments of the population that are interested in the company's products, then we should see a mismatch from one to the other. If there is a higher proportion of persons in a cluster for the customer data compared to the general population (e.g. 5% of persons are assigned to a cluster for the general population, but 15% of the customer data is closest to that cluster's centroid) then that suggests the people in that cluster to be a target audience for the company. On the other hand, the proportion of the data in a cluster being larger in the general population than the customer data (e.g. only 2% of customers closest to a population centroid that captures 6% of the data) suggests that group of persons to be outside of the target demographics.\n",
    "\n",
    "Take a look at the following points in this step:\n",
    "\n",
    "- Compute the proportion of data points in each cluster for the general population and the customer data. Visualizations will be useful here: both for the individual dataset proportions, but also to visualize the ratios in cluster representation between groups. Seaborn's [`countplot()`](https://seaborn.pydata.org/generated/seaborn.countplot.html) or [`barplot()`](https://seaborn.pydata.org/generated/seaborn.barplot.html) function could be handy.\n",
    "  - Recall the analysis you performed in step 1.1.3 of the project, where you separated out certain data points from the dataset if they had more than a specified threshold of missing values. If you found that this group was qualitatively different from the main bulk of the data, you should treat this as an additional data cluster in this analysis. Make sure that you account for the number of data points in this subset, for both the general population and customer datasets, when making your computations!\n",
    "- Which cluster or clusters are overrepresented in the customer dataset compared to the general population? Select at least one such cluster and infer what kind of people might be represented by that cluster. Use the principal component interpretations from step 2.3 or look at additional components to help you make this inference. Alternatively, you can use the `.inverse_transform()` method of the PCA and StandardScaler objects to transform centroids back to the original data space and interpret the retrieved values directly.\n",
    "- Perform a similar investigation for the underrepresented clusters. Which cluster or clusters are underrepresented in the customer dataset compared to the general population, and what kinds of people are typified by these clusters?"
   ]
  },
  {
   "cell_type": "code",
   "execution_count": 46,
   "metadata": {},
   "outputs": [
    {
     "data": {
      "image/png": "[encoded data removed]",
      "text/plain": [
       "<matplotlib.figure.Figure at 0x7fe2befb7400>"
      ]
     },
     "metadata": {
      "needs_background": "light"
     },
     "output_type": "display_data"
    }
   ],
   "source": [
    "# Compare the proportion of data in each cluster for the customer data to the\n",
    "# proportion of data in each cluster for the general population.\n",
    "cluster_dist_germany = Counter(kmeans_predictions_germany)\n",
    "cluster_dist_customer = Counter(kmeans_predictions_germany_above)\n",
    "cluster_dist_germany_above = Counter(kmeans_predictions_customer)\n",
    "cluster_dist_customer_above = Counter(kmeans_predictions_customer_above)\n",
    "\n",
    "#https://stackoverflow.com/questions/52572094/how-to-plot-collections-counter-histogram-using-matplotlib/52572237\n",
    "\n",
    "\n",
    "fig, axs = plt.subplots(2, 2)\n",
    "axs[0, 0].bar(cluster_dist_germany.keys(),cluster_dist_germany.values())\n",
    "axs[0, 0].set_title('cluster_dist_germany')\n",
    "axs[0, 1].bar(cluster_dist_customer.keys(),cluster_dist_customer.values())\n",
    "axs[0, 1].set_title('cluster_dist_customer')\n",
    "axs[1, 0].bar(cluster_dist_germany_above.keys(),cluster_dist_germany_above.values())\n",
    "axs[1, 0].set_title('cluster_dist_germany_above')\n",
    "axs[1, 1].bar(cluster_dist_customer_above.keys(),cluster_dist_customer_above.values())\n",
    "axs[1, 1].set_title('cluster_dist_customer_above')\n",
    "plt.show()"
   ]
  },
  {
   "cell_type": "code",
   "execution_count": 56,
   "metadata": {},
   "outputs": [
    {
     "name": "stdout",
     "output_type": "stream",
     "text": [
      "cluster_customer_below_1_result\n",
      "MIN_GEBAEUDEJAHR    2003.970793\n",
      "KBA13_ANZAHL_PKW     605.006558\n",
      "KBA05_GBZ             13.908382\n",
      "MOBI_REGIO            13.863695\n",
      "KBA05_ANTG2           13.725372\n",
      "dtype: float64\n",
      "cluster_customer_above_2_result\n",
      "SEMIO_REL     7.000000\n",
      "SEMIO_KRIT    6.999934\n",
      "SEMIO_FAM     6.000000\n",
      "SEMIO_DOM     5.999956\n",
      "SEMIO_KAEM    5.999956\n",
      "dtype: float64\n"
     ]
    }
   ],
   "source": [
    "# What kinds of people are part of a cluster that is overrepresented in the\n",
    "# customer data compared to the general population?\n",
    "\n",
    "#https://knowledge.udacity.com/questions/180641\n",
    "\n",
    "#Below threshold:\n",
    "#Cluster 1 \n",
    "\n",
    "#What kind of people might be represented by that cluster?\n",
    "#A high value in one of the columns,\n",
    "#say the age group 30 - 60 years would mean that the particular cluster\n",
    "#has a large number of people in the above age group.\n",
    "print(\"cluster_customer_below_1_result\")\n",
    "cluster_customer_below_1_data = scaler_fit.inverse_transform(pca_fit.inverse_transform(kmeans_fit.cluster_centers_[1]))\n",
    "cluster_customer_below_1_result = pd.Series(data = cluster_customer_below_1_data, index = cleaned_customer_data.columns)\n",
    "cluster_customer_below_1_result = cluster_customer_below_1_result.sort_values(ascending=False)\n",
    "print(cluster_customer_below_1_result.head())\n",
    "\n",
    "#Above threshold:\n",
    "#Cluster 2\n",
    "print(\"cluster_customer_above_2_result\")\n",
    "cluster_customer_above_2_data = scaler_fit_above.inverse_transform(pca_fit_above.inverse_transform(kmeans_fit_above.cluster_centers_[2]))\n",
    "cluster_customer_above_2_result = pd.Series(data = cluster_customer_above_2_data, index = cleaned_customer_data_above_threshold.columns)\n",
    "cluster_customer_above_2_result = cluster_customer_above_2_result.sort_values(ascending=False)\n",
    "print(cluster_customer_above_2_result.head())"
   ]
  },
  {
   "cell_type": "code",
   "execution_count": 58,
   "metadata": {},
   "outputs": [
    {
     "name": "stdout",
     "output_type": "stream",
     "text": [
      "cluster_customer_below_3_result\n",
      "MIN_GEBAEUDEJAHR                1992.413808\n",
      "KBA13_ANZAHL_PKW                 554.683779\n",
      "ANZ_HAUSHALTE_AKTIV               14.416252\n",
      "WOHNDAUER_2008                     8.087347\n",
      "PRAEGENDE_JUGENDJAHRE_DECADE       6.580938\n",
      "dtype: float64\n",
      "cluster_customer_below_4_result\n",
      "MIN_GEBAEUDEJAHR                1993.095572\n",
      "KBA13_ANZAHL_PKW                 679.694094\n",
      "WOHNDAUER_2008                     8.462296\n",
      "PRAEGENDE_JUGENDJAHRE_DECADE       6.848973\n",
      "INNENSTADT                         5.470161\n",
      "dtype: float64\n",
      "cluster_customer_above_3_result\n",
      "MIN_GEBAEUDEJAHR                2006.166667\n",
      "KBA13_ANZAHL_PKW                 132.171614\n",
      "HEALTH_TYP                        18.083688\n",
      "PRAEGENDE_JUGENDJAHRE_DECADE      18.083688\n",
      "REGIOTYP                          18.083688\n",
      "dtype: float64\n",
      "cluster_customer_above_4_result\n",
      "WOHNDAUER_2008    8.079126\n",
      "SEMIO_KRIT        5.635738\n",
      "SEMIO_ERL         5.253567\n",
      "SEMIO_VERT        5.091571\n",
      "SEMIO_KAEM        4.949206\n",
      "dtype: float64\n"
     ]
    }
   ],
   "source": [
    "# What kinds of people are part of a cluster that is underrepresented in the\n",
    "# customer data compared to the general population?\n",
    "\n",
    "#Below threshold:\n",
    "#Cluster 3+4\n",
    "print(\"cluster_customer_below_3_result\")\n",
    "cluster_customer_below_3_data = scaler_fit.inverse_transform(pca_fit.inverse_transform(kmeans_fit.cluster_centers_[3]))\n",
    "cluster_customer_below_3_result = pd.Series(data = cluster_customer_below_3_data, index = cleaned_customer_data.columns)\n",
    "cluster_customer_below_3_result = cluster_customer_below_3_result.sort_values(ascending=False)\n",
    "print(cluster_customer_below_3_result.head())\n",
    "\n",
    "print(\"cluster_customer_below_4_result\")\n",
    "cluster_customer_below_4_data = scaler_fit.inverse_transform(pca_fit.inverse_transform(kmeans_fit.cluster_centers_[4]))\n",
    "cluster_customer_below_4_result = pd.Series(data = cluster_customer_below_4_data, index = cleaned_customer_data.columns)\n",
    "cluster_customer_below_4_result = cluster_customer_below_4_result.sort_values(ascending=False)\n",
    "print(cluster_customer_below_4_result.head())\n",
    "#Above threshold:\n",
    "#Cluster 3+4\n",
    "#Above threshold:\n",
    "#Cluster 2\n",
    "print(\"cluster_customer_above_3_result\")\n",
    "cluster_customer_above_3_data = scaler_fit_above.inverse_transform(pca_fit_above.inverse_transform(kmeans_fit_above.cluster_centers_[3]))\n",
    "cluster_customer_above_3_result = pd.Series(data = cluster_customer_above_3_data, index = cleaned_customer_data_above_threshold.columns)\n",
    "cluster_customer_above_3_result = cluster_customer_above_3_result.sort_values(ascending=False)\n",
    "print(cluster_customer_above_3_result.head())\n",
    "\n",
    "print(\"cluster_customer_above_4_result\")\n",
    "cluster_customer_above_4_data = scaler_fit_above.inverse_transform(pca_fit_above.inverse_transform(kmeans_fit_above.cluster_centers_[4]))\n",
    "cluster_customer_above_4_result = pd.Series(data = cluster_customer_above_4_data, index = cleaned_customer_data_above_threshold.columns)\n",
    "cluster_customer_above_4_result = cluster_customer_above_4_result.sort_values(ascending=False)\n",
    "print(cluster_customer_above_4_result.head())\n"
   ]
  },
  {
   "cell_type": "markdown",
   "metadata": {},
   "source": [
    "### Discussion 3.3: Compare Customer Data to Demographics Data\n",
    "\n",
    "- Can we describe segments of the population that are relatively popular with the mail-order company, or relatively unpopular with the company?)\n",
    "\n",
    "It seems strongly that the values of \"building year\" and \"number of cars\" are highly related to both beeing part of the popular and the unpopular group in the datasets \"BELOW THRESHOLD\". In the datasets \"ABOVE THRESHHOLD\" we can see that different attributes come to play, even though one unpopular cluster is also strongly defined by the same two metrics.\n",
    "\n",
    "+++BELOW THRESHOLD +++\n",
    "POPULAR:\n",
    "- cluster_customer_below_1_result\n",
    "- MIN_GEBAEUDEJAHR    2003.970793 --> First year building was mentioned in the database\n",
    "- KBA13_ANZAHL_PKW     605.006558 --> Number of cars in the PLZ8 region\n",
    "- KBA05_GBZ             13.908382\n",
    "- MOBI_REGIO            13.863695\n",
    "- KBA05_ANTG2           13.725372\n",
    "\n",
    "UNPOPULAR:\n",
    "- cluster_customer_below_3_result\n",
    "- MIN_GEBAEUDEJAHR                1992.413808 --> First year building was mentioned in the database\n",
    "- KBA13_ANZAHL_PKW                 554.683779 --> Number of cars in the PLZ8 region\n",
    "- ANZ_HAUSHALTE_AKTIV               14.416252\n",
    "- WOHNDAUER_2008                     8.087347\n",
    "- PRAEGENDE_JUGENDJAHRE_DECADE       6.580938\n",
    "\n",
    "cluster_customer_below_4_result\n",
    "- MIN_GEBAEUDEJAHR                1993.095572 --> First year building was mentioned in the database\n",
    "- KBA13_ANZAHL_PKW                 679.694094 --> Number of cars in the PLZ8 region\n",
    "- WOHNDAUER_2008                     8.462296\n",
    "- PRAEGENDE_JUGENDJAHRE_DECADE       6.848973\n",
    "- INNENSTADT                        5.470161\n",
    "\n",
    "+++ABOVE THRESHOLD +++\n",
    "POPULAR:\n",
    "cluster_customer_above_2_result\n",
    "- SEMIO_REL     7.000000 --> religious\n",
    "- SEMIO_KRIT    6.999934 --> critical-minded\n",
    "- SEMIO_FAM     6.000000\n",
    "- SEMIO_DOM     5.999956\n",
    "- SEMIO_KAEM    5.999956\n",
    "\n",
    "UNPOPULAR:\n",
    "- cluster_customer_above_3_result\n",
    "- MIN_GEBAEUDEJAHR                2006.166667  --> First year building was mentioned in the database\n",
    "- KBA13_ANZAHL_PKW                 132.171614  --> Number of cars in the PLZ8 region\n",
    "- HEALTH_TYP                        18.083688\n",
    "- PRAEGENDE_JUGENDJAHRE_DECADE      18.083688\n",
    "- REGIOTYP                          18.083688\n",
    "\n",
    "cluster_customer_above_4_result\n",
    "WOHNDAUER_2008    8.079126 --> Length of residence\n",
    "- SEMIO_KRIT        5.635738  --> critical-minded\n",
    "- SEMIO_ERL         5.253567\n",
    "- SEMIO_VERT        5.091571\n",
    "- SEMIO_KAEM        4.949206\n"
   ]
  },
  {
   "cell_type": "markdown",
   "metadata": {},
   "source": [
    "> Congratulations on making it this far in the project! Before you finish, make sure to check through the entire notebook from top to bottom to make sure that your analysis follows a logical flow and all of your findings are documented in **Discussion** cells. Once you've checked over all of your work, you should export the notebook as an HTML document to submit for evaluation. You can do this from the menu, navigating to **File -> Download as -> HTML (.html)**. You will submit both that document and this notebook for your project submission."
   ]
  },
  {
   "cell_type": "code",
   "execution_count": null,
   "metadata": {},
   "outputs": [],
   "source": []
  }
 ],
 "metadata": {
  "kernelspec": {
   "display_name": "Python 3",
   "language": "python",
   "name": "python3"
  },
  "language_info": {
   "codemirror_mode": {
    "name": "ipython",
    "version": 3
   },
   "file_extension": ".py",
   "mimetype": "text/x-python",
   "name": "python",
   "nbconvert_exporter": "python",
   "pygments_lexer": "ipython3",
   "version": "3.6.3"
  }
 },
 "nbformat": 4,
 "nbformat_minor": 2
}
